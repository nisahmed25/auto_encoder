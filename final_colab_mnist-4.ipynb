{
  "nbformat": 4,
  "nbformat_minor": 0,
  "metadata": {
    "colab": {
      "name": "final_colab_mnist.ipynb",
      "version": "0.3.2",
      "provenance": []
    },
    "language_info": {
      "codemirror_mode": {
        "name": "ipython",
        "version": 3
      },
      "file_extension": ".py",
      "mimetype": "text/x-python",
      "name": "python",
      "nbconvert_exporter": "python",
      "pygments_lexer": "ipython3",
      "version": "3.6.3"
    },
    "kernelspec": {
      "name": "python3",
      "display_name": "Python 3"
    },
    "accelerator": "GPU"
  },
  "cells": [
    {
      "cell_type": "code",
      "metadata": {
        "colab_type": "code",
        "id": "jrw6pQluImrt",
        "colab": {}
      },
      "source": [
        "import warnings\n",
        "warnings.filterwarnings(\"ignore\")"
      ],
      "execution_count": 0,
      "outputs": []
    },
    {
      "cell_type": "code",
      "metadata": {
        "colab_type": "code",
        "id": "My_tlYoeJXvs",
        "outputId": "0c777675-e7f1-4634-86ca-cf5436664c89",
        "colab": {
          "base_uri": "https://localhost:8080/",
          "height": 34
        }
      },
      "source": [
        "from google.colab import drive\n",
        "drive.mount('/gdrive')"
      ],
      "execution_count": 55,
      "outputs": [
        {
          "output_type": "stream",
          "text": [
            "Drive already mounted at /gdrive; to attempt to forcibly remount, call drive.mount(\"/gdrive\", force_remount=True).\n"
          ],
          "name": "stdout"
        }
      ]
    },
    {
      "cell_type": "code",
      "metadata": {
        "colab_type": "code",
        "id": "sN5_l3SKQ4cJ",
        "colab": {}
      },
      "source": [
        "cp -f /gdrive/My\\ Drive/fashion-mnist_train.csv ."
      ],
      "execution_count": 0,
      "outputs": []
    },
    {
      "cell_type": "code",
      "metadata": {
        "colab_type": "code",
        "id": "g61tm3YCRCLR",
        "colab": {}
      },
      "source": [
        "!cp -f /gdrive/My\\ Drive/alpha.py .\n",
        "!cp -f /gdrive/My\\ Drive/cnn_utils.py ."
      ],
      "execution_count": 0,
      "outputs": []
    },
    {
      "cell_type": "code",
      "metadata": {
        "colab_type": "code",
        "id": "Sh3U2zGmImrx",
        "colab": {}
      },
      "source": [
        "\n",
        "from alpha import iterate_minibatches\n",
        "from alpha import saveGraph\n",
        "from alpha import lrelu\n",
        "from alpha import make_square\n",
        "from cnn_utils import  conv_layer, fc_layer"
      ],
      "execution_count": 0,
      "outputs": []
    },
    {
      "cell_type": "code",
      "metadata": {
        "colab_type": "code",
        "id": "_xwe6aMoImr1",
        "colab": {}
      },
      "source": [
        "import tensorflow as tf\n",
        "import os, cv2, random\n",
        "import numpy as np\n",
        "import pandas as pd\n",
        "import time, math\n",
        "import matplotlib.pyplot as plt\n",
        "from PIL import Image\n",
        "from tqdm import tqdm\n",
        "from collections import OrderedDict\n",
        "\n",
        "%matplotlib inline"
      ],
      "execution_count": 0,
      "outputs": []
    },
    {
      "cell_type": "code",
      "metadata": {
        "colab_type": "code",
        "id": "FWyEJlBQImr4",
        "outputId": "76117980-d6a2-48ab-dc71-e4513316cf41",
        "colab": {
          "base_uri": "https://localhost:8080/",
          "height": 34
        }
      },
      "source": [
        "tf.__version__"
      ],
      "execution_count": 60,
      "outputs": [
        {
          "output_type": "execute_result",
          "data": {
            "text/plain": [
              "'1.14.0-rc1'"
            ]
          },
          "metadata": {
            "tags": []
          },
          "execution_count": 60
        }
      ]
    },
    {
      "cell_type": "code",
      "metadata": {
        "colab_type": "code",
        "id": "-swAmAWGImr9",
        "outputId": "628d7ee9-b89b-4cdb-d659-a586f39f6cc2",
        "colab": {
          "base_uri": "https://localhost:8080/",
          "height": 80
        }
      },
      "source": [
        "!ls"
      ],
      "execution_count": 61,
      "outputs": [
        {
          "output_type": "stream",
          "text": [
            "alpha.py      Embeddings\t       pb\t    sample_data  summary_log\n",
            "cnn_utils.py  fashion-mnist_train.csv  __pycache__  saved_model\n"
          ],
          "name": "stdout"
        }
      ]
    },
    {
      "cell_type": "code",
      "metadata": {
        "colab_type": "code",
        "id": "93uP8jnhObru",
        "colab": {}
      },
      "source": [
        "# cp -f ./fashion-mnist_train.csv /gdrive/My\\ Drive/"
      ],
      "execution_count": 0,
      "outputs": []
    },
    {
      "cell_type": "code",
      "metadata": {
        "colab_type": "code",
        "id": "I4zyP-qkImsK",
        "colab": {}
      },
      "source": [
        "'''\n",
        "Designing auto encoder network.\n",
        "'''\n",
        "graph = tf.Graph()"
      ],
      "execution_count": 0,
      "outputs": []
    },
    {
      "cell_type": "code",
      "metadata": {
        "colab_type": "code",
        "id": "an088iz7ImsM",
        "colab": {}
      },
      "source": [
        "with graph.as_default():\n",
        "    '''\n",
        "    two placeholder to place input and output images. \n",
        "    Technically this will be same image.\n",
        "    '''\n",
        "    X = tf.placeholder(tf.float32,[None,28,28,1])\n",
        "    Y = tf.placeholder(tf.float32,[None,28,28,1])"
      ],
      "execution_count": 0,
      "outputs": []
    },
    {
      "cell_type": "code",
      "metadata": {
        "colab_type": "code",
        "id": "AC-_MDU3ImsO",
        "colab": {}
      },
      "source": [
        "'''\n",
        "Encoder network:\n",
        "    This will map the input image to a euclidian space\n",
        "    Name scope has added to view the network clearly on tensorboard\n",
        "'''\n",
        "with graph.as_default():\n",
        "    with tf.name_scope('en-convolutions'):\n",
        "        conv0 = tf.layers.conv2d(X,filters=4,kernel_size=(3,3),strides=(1,1),padding='SAME',use_bias=True,activation=lrelu,name='conv0')\n",
        "    with tf.name_scope('en-pooling'):\n",
        "        maxpool0 = tf.layers.max_pooling2d(conv0,pool_size=(2,2),strides=(2,2),name='pool0')     \n",
        "    \n",
        "    with tf.name_scope('en-convolutions'):\n",
        "        conv1 = tf.layers.conv2d(maxpool0,filters=4,kernel_size=(3,3),strides=(1,1),padding='SAME',use_bias=True,activation=lrelu,name='conv1')\n",
        "    with tf.name_scope('en-pooling'):\n",
        "        maxpool1 = tf.layers.max_pooling2d(conv1,pool_size=(2,2),strides=(2,2),name='pool1')\n",
        "    \n",
        "    with tf.name_scope('en-convolutions'):\n",
        "        conv2 = tf.layers.conv2d(maxpool1,filters=8,kernel_size=(3,3),strides=(1,1),padding='SAME',use_bias=True,activation=lrelu,name='conv2')\n",
        "    with tf.name_scope('en-pooling'):\n",
        "        maxpool2 = tf.layers.max_pooling2d(conv2,pool_size=(2,2),strides=(2,2),name='pool2')\n",
        "    \n",
        "    with tf.name_scope('en-convolutions'):\n",
        "        conv3 = tf.layers.conv2d(maxpool2,filters=16,kernel_size=(3,3),strides=(1,1),padding='SAME',use_bias=True,activation=lrelu,name='conv3')\n",
        "    with tf.name_scope('encoding'):\n",
        "        encoded = tf.layers.average_pooling2d(conv3,pool_size=(2,2),strides=(2,2),name='encoding')"
      ],
      "execution_count": 0,
      "outputs": []
    },
    {
      "cell_type": "code",
      "metadata": {
        "colab_type": "code",
        "id": "v85ONPMNImsQ",
        "outputId": "59b4113a-a564-40c3-c729-70b4bebc36dc",
        "colab": {
          "base_uri": "https://localhost:8080/",
          "height": 34
        }
      },
      "source": [
        "'''\n",
        "The last tensor, 'encoded',  will be a of shape (?, 1, 1, 16), which then will be flattened to shape (, 256).\n",
        "This will be the compressed representation of the input image\n",
        "'''\n",
        "encoded"
      ],
      "execution_count": 66,
      "outputs": [
        {
          "output_type": "execute_result",
          "data": {
            "text/plain": [
              "<tf.Tensor 'encoding/encoding/AvgPool:0' shape=(?, 1, 1, 16) dtype=float32>"
            ]
          },
          "metadata": {
            "tags": []
          },
          "execution_count": 66
        }
      ]
    },
    {
      "cell_type": "code",
      "metadata": {
        "colab_type": "code",
        "id": "o_ynKSJzImsS",
        "colab": {}
      },
      "source": [
        "'''\n",
        "Decoder network:\n",
        "This will map the encodings back to image of same input shape\n",
        "'''\n",
        "with graph.as_default():\n",
        "    with tf.name_scope('decoder'):\n",
        "        upsample1 = tf.layers.conv2d_transpose(encoded,filters=16,kernel_size=3,padding='valid',strides=2,name='upsample1')\n",
        "        conv4 = tf.layers.conv2d(upsample1,filters=16,kernel_size=(3,3),strides=(1,1),padding='SAME',name='conv4',use_bias=True,activation=lrelu)#upsample1 #\n",
        "        \n",
        "        upsample2 = tf.layers.conv2d_transpose(conv4,filters=8,kernel_size=3,padding='valid',strides=2,name='upsample2') \n",
        "        conv5 = tf.layers.conv2d(upsample2,filters=8,kernel_size=(3,3),strides=(1,1),name='conv5',padding='SAME',use_bias=True,activation=lrelu)#upsample2 #\n",
        "        \n",
        "        upsample3 = tf.layers.conv2d_transpose(conv5,filters=8,kernel_size=5,padding='same',strides=2,name='upsample3')\n",
        "        conv6 = tf.layers.conv2d(upsample3,filters=4,kernel_size=(5,5),strides=(1,1),name='conv6',padding='SAME',use_bias=True,activation=lrelu)\n",
        "        \n",
        "        upsample4 = tf.layers.conv2d_transpose(conv6,filters=8,kernel_size=5,padding='same',strides=2,name='upsample4')\n",
        "        conv7 = tf.layers.conv2d(upsample4,filters=4,kernel_size=(5,5),strides=(1,1),name='conv7',padding='SAME',use_bias=True,activation=lrelu)\n",
        "        \n",
        "        logits = tf.layers.conv2d(conv7,filters=1,kernel_size=(3,3),strides=(1,1),name='logits',padding='SAME',use_bias=True)\n",
        "        decoded = tf.sigmoid(logits,name='recon')"
      ],
      "execution_count": 0,
      "outputs": []
    },
    {
      "cell_type": "code",
      "metadata": {
        "colab_type": "code",
        "id": "VX4x55zhImsT",
        "outputId": "9aecd39e-cfef-417c-a1ca-cc9ad51702b5",
        "colab": {
          "base_uri": "https://localhost:8080/",
          "height": 34
        }
      },
      "source": [
        "logits"
      ],
      "execution_count": 68,
      "outputs": [
        {
          "output_type": "execute_result",
          "data": {
            "text/plain": [
              "<tf.Tensor 'decoder/logits/BiasAdd:0' shape=(?, 28, 28, 1) dtype=float32>"
            ]
          },
          "metadata": {
            "tags": []
          },
          "execution_count": 68
        }
      ]
    },
    {
      "cell_type": "code",
      "metadata": {
        "colab_type": "code",
        "id": "K6Xw-nepImsV",
        "scrolled": false,
        "colab": {}
      },
      "source": [
        "# for op in graph.get_operations():\n",
        "#      print(op.name)"
      ],
      "execution_count": 0,
      "outputs": []
    },
    {
      "cell_type": "code",
      "metadata": {
        "colab_type": "code",
        "id": "Hv0rO9StImsX",
        "colab": {}
      },
      "source": [
        "dir = './train/fashionmnist/'"
      ],
      "execution_count": 0,
      "outputs": []
    },
    {
      "cell_type": "code",
      "metadata": {
        "colab_type": "code",
        "id": "av9wdQcYImsY",
        "outputId": "4b961c65-f195-4066-fdc1-db251d2838a7",
        "colab": {
          "base_uri": "https://localhost:8080/",
          "height": 293
        }
      },
      "source": [
        "train = pd.read_csv('./fashion-mnist_train.csv')\n",
        "train = train.drop(columns='label')\n",
        "train.head()"
      ],
      "execution_count": 71,
      "outputs": [
        {
          "output_type": "execute_result",
          "data": {
            "text/html": [
              "<div>\n",
              "<style scoped>\n",
              "    .dataframe tbody tr th:only-of-type {\n",
              "        vertical-align: middle;\n",
              "    }\n",
              "\n",
              "    .dataframe tbody tr th {\n",
              "        vertical-align: top;\n",
              "    }\n",
              "\n",
              "    .dataframe thead th {\n",
              "        text-align: right;\n",
              "    }\n",
              "</style>\n",
              "<table border=\"1\" class=\"dataframe\">\n",
              "  <thead>\n",
              "    <tr style=\"text-align: right;\">\n",
              "      <th></th>\n",
              "      <th>pixel1</th>\n",
              "      <th>pixel2</th>\n",
              "      <th>pixel3</th>\n",
              "      <th>pixel4</th>\n",
              "      <th>pixel5</th>\n",
              "      <th>pixel6</th>\n",
              "      <th>pixel7</th>\n",
              "      <th>pixel8</th>\n",
              "      <th>pixel9</th>\n",
              "      <th>pixel10</th>\n",
              "      <th>pixel11</th>\n",
              "      <th>pixel12</th>\n",
              "      <th>pixel13</th>\n",
              "      <th>pixel14</th>\n",
              "      <th>pixel15</th>\n",
              "      <th>pixel16</th>\n",
              "      <th>pixel17</th>\n",
              "      <th>pixel18</th>\n",
              "      <th>pixel19</th>\n",
              "      <th>pixel20</th>\n",
              "      <th>pixel21</th>\n",
              "      <th>pixel22</th>\n",
              "      <th>pixel23</th>\n",
              "      <th>pixel24</th>\n",
              "      <th>pixel25</th>\n",
              "      <th>pixel26</th>\n",
              "      <th>pixel27</th>\n",
              "      <th>pixel28</th>\n",
              "      <th>pixel29</th>\n",
              "      <th>pixel30</th>\n",
              "      <th>pixel31</th>\n",
              "      <th>pixel32</th>\n",
              "      <th>pixel33</th>\n",
              "      <th>pixel34</th>\n",
              "      <th>pixel35</th>\n",
              "      <th>pixel36</th>\n",
              "      <th>pixel37</th>\n",
              "      <th>pixel38</th>\n",
              "      <th>pixel39</th>\n",
              "      <th>pixel40</th>\n",
              "      <th>...</th>\n",
              "      <th>pixel745</th>\n",
              "      <th>pixel746</th>\n",
              "      <th>pixel747</th>\n",
              "      <th>pixel748</th>\n",
              "      <th>pixel749</th>\n",
              "      <th>pixel750</th>\n",
              "      <th>pixel751</th>\n",
              "      <th>pixel752</th>\n",
              "      <th>pixel753</th>\n",
              "      <th>pixel754</th>\n",
              "      <th>pixel755</th>\n",
              "      <th>pixel756</th>\n",
              "      <th>pixel757</th>\n",
              "      <th>pixel758</th>\n",
              "      <th>pixel759</th>\n",
              "      <th>pixel760</th>\n",
              "      <th>pixel761</th>\n",
              "      <th>pixel762</th>\n",
              "      <th>pixel763</th>\n",
              "      <th>pixel764</th>\n",
              "      <th>pixel765</th>\n",
              "      <th>pixel766</th>\n",
              "      <th>pixel767</th>\n",
              "      <th>pixel768</th>\n",
              "      <th>pixel769</th>\n",
              "      <th>pixel770</th>\n",
              "      <th>pixel771</th>\n",
              "      <th>pixel772</th>\n",
              "      <th>pixel773</th>\n",
              "      <th>pixel774</th>\n",
              "      <th>pixel775</th>\n",
              "      <th>pixel776</th>\n",
              "      <th>pixel777</th>\n",
              "      <th>pixel778</th>\n",
              "      <th>pixel779</th>\n",
              "      <th>pixel780</th>\n",
              "      <th>pixel781</th>\n",
              "      <th>pixel782</th>\n",
              "      <th>pixel783</th>\n",
              "      <th>pixel784</th>\n",
              "    </tr>\n",
              "  </thead>\n",
              "  <tbody>\n",
              "    <tr>\n",
              "      <th>0</th>\n",
              "      <td>0</td>\n",
              "      <td>0</td>\n",
              "      <td>0</td>\n",
              "      <td>0</td>\n",
              "      <td>0</td>\n",
              "      <td>0</td>\n",
              "      <td>0</td>\n",
              "      <td>0</td>\n",
              "      <td>0</td>\n",
              "      <td>0</td>\n",
              "      <td>0</td>\n",
              "      <td>0</td>\n",
              "      <td>0</td>\n",
              "      <td>0</td>\n",
              "      <td>0</td>\n",
              "      <td>0</td>\n",
              "      <td>0</td>\n",
              "      <td>0</td>\n",
              "      <td>0</td>\n",
              "      <td>0</td>\n",
              "      <td>0</td>\n",
              "      <td>0</td>\n",
              "      <td>0</td>\n",
              "      <td>0</td>\n",
              "      <td>0</td>\n",
              "      <td>0</td>\n",
              "      <td>0</td>\n",
              "      <td>0</td>\n",
              "      <td>0</td>\n",
              "      <td>0</td>\n",
              "      <td>0</td>\n",
              "      <td>0</td>\n",
              "      <td>0</td>\n",
              "      <td>0</td>\n",
              "      <td>0</td>\n",
              "      <td>0</td>\n",
              "      <td>0</td>\n",
              "      <td>0</td>\n",
              "      <td>0</td>\n",
              "      <td>0</td>\n",
              "      <td>...</td>\n",
              "      <td>0</td>\n",
              "      <td>0</td>\n",
              "      <td>0</td>\n",
              "      <td>0</td>\n",
              "      <td>0</td>\n",
              "      <td>0</td>\n",
              "      <td>0</td>\n",
              "      <td>0</td>\n",
              "      <td>0</td>\n",
              "      <td>0</td>\n",
              "      <td>0</td>\n",
              "      <td>0</td>\n",
              "      <td>0</td>\n",
              "      <td>0</td>\n",
              "      <td>0</td>\n",
              "      <td>0</td>\n",
              "      <td>0</td>\n",
              "      <td>0</td>\n",
              "      <td>0</td>\n",
              "      <td>0</td>\n",
              "      <td>0</td>\n",
              "      <td>0</td>\n",
              "      <td>0</td>\n",
              "      <td>0</td>\n",
              "      <td>0</td>\n",
              "      <td>0</td>\n",
              "      <td>0</td>\n",
              "      <td>0</td>\n",
              "      <td>0</td>\n",
              "      <td>0</td>\n",
              "      <td>0</td>\n",
              "      <td>0</td>\n",
              "      <td>0</td>\n",
              "      <td>0</td>\n",
              "      <td>0</td>\n",
              "      <td>0</td>\n",
              "      <td>0</td>\n",
              "      <td>0</td>\n",
              "      <td>0</td>\n",
              "      <td>0</td>\n",
              "    </tr>\n",
              "    <tr>\n",
              "      <th>1</th>\n",
              "      <td>0</td>\n",
              "      <td>0</td>\n",
              "      <td>0</td>\n",
              "      <td>0</td>\n",
              "      <td>0</td>\n",
              "      <td>0</td>\n",
              "      <td>0</td>\n",
              "      <td>0</td>\n",
              "      <td>0</td>\n",
              "      <td>0</td>\n",
              "      <td>0</td>\n",
              "      <td>0</td>\n",
              "      <td>0</td>\n",
              "      <td>0</td>\n",
              "      <td>0</td>\n",
              "      <td>0</td>\n",
              "      <td>0</td>\n",
              "      <td>0</td>\n",
              "      <td>0</td>\n",
              "      <td>0</td>\n",
              "      <td>0</td>\n",
              "      <td>0</td>\n",
              "      <td>0</td>\n",
              "      <td>0</td>\n",
              "      <td>0</td>\n",
              "      <td>0</td>\n",
              "      <td>0</td>\n",
              "      <td>0</td>\n",
              "      <td>0</td>\n",
              "      <td>0</td>\n",
              "      <td>0</td>\n",
              "      <td>0</td>\n",
              "      <td>0</td>\n",
              "      <td>0</td>\n",
              "      <td>0</td>\n",
              "      <td>0</td>\n",
              "      <td>0</td>\n",
              "      <td>0</td>\n",
              "      <td>0</td>\n",
              "      <td>0</td>\n",
              "      <td>...</td>\n",
              "      <td>0</td>\n",
              "      <td>0</td>\n",
              "      <td>0</td>\n",
              "      <td>0</td>\n",
              "      <td>0</td>\n",
              "      <td>0</td>\n",
              "      <td>0</td>\n",
              "      <td>0</td>\n",
              "      <td>0</td>\n",
              "      <td>0</td>\n",
              "      <td>0</td>\n",
              "      <td>0</td>\n",
              "      <td>0</td>\n",
              "      <td>0</td>\n",
              "      <td>0</td>\n",
              "      <td>0</td>\n",
              "      <td>0</td>\n",
              "      <td>0</td>\n",
              "      <td>0</td>\n",
              "      <td>0</td>\n",
              "      <td>0</td>\n",
              "      <td>0</td>\n",
              "      <td>0</td>\n",
              "      <td>0</td>\n",
              "      <td>0</td>\n",
              "      <td>0</td>\n",
              "      <td>0</td>\n",
              "      <td>0</td>\n",
              "      <td>0</td>\n",
              "      <td>0</td>\n",
              "      <td>0</td>\n",
              "      <td>0</td>\n",
              "      <td>0</td>\n",
              "      <td>0</td>\n",
              "      <td>0</td>\n",
              "      <td>0</td>\n",
              "      <td>0</td>\n",
              "      <td>0</td>\n",
              "      <td>0</td>\n",
              "      <td>0</td>\n",
              "    </tr>\n",
              "    <tr>\n",
              "      <th>2</th>\n",
              "      <td>0</td>\n",
              "      <td>0</td>\n",
              "      <td>0</td>\n",
              "      <td>0</td>\n",
              "      <td>0</td>\n",
              "      <td>0</td>\n",
              "      <td>0</td>\n",
              "      <td>5</td>\n",
              "      <td>0</td>\n",
              "      <td>0</td>\n",
              "      <td>0</td>\n",
              "      <td>105</td>\n",
              "      <td>92</td>\n",
              "      <td>101</td>\n",
              "      <td>107</td>\n",
              "      <td>100</td>\n",
              "      <td>132</td>\n",
              "      <td>0</td>\n",
              "      <td>0</td>\n",
              "      <td>2</td>\n",
              "      <td>4</td>\n",
              "      <td>0</td>\n",
              "      <td>1</td>\n",
              "      <td>0</td>\n",
              "      <td>0</td>\n",
              "      <td>0</td>\n",
              "      <td>0</td>\n",
              "      <td>0</td>\n",
              "      <td>0</td>\n",
              "      <td>0</td>\n",
              "      <td>0</td>\n",
              "      <td>0</td>\n",
              "      <td>0</td>\n",
              "      <td>0</td>\n",
              "      <td>0</td>\n",
              "      <td>0</td>\n",
              "      <td>0</td>\n",
              "      <td>0</td>\n",
              "      <td>150</td>\n",
              "      <td>227</td>\n",
              "      <td>...</td>\n",
              "      <td>211</td>\n",
              "      <td>220</td>\n",
              "      <td>214</td>\n",
              "      <td>74</td>\n",
              "      <td>0</td>\n",
              "      <td>255</td>\n",
              "      <td>222</td>\n",
              "      <td>128</td>\n",
              "      <td>0</td>\n",
              "      <td>0</td>\n",
              "      <td>0</td>\n",
              "      <td>0</td>\n",
              "      <td>0</td>\n",
              "      <td>0</td>\n",
              "      <td>0</td>\n",
              "      <td>0</td>\n",
              "      <td>0</td>\n",
              "      <td>44</td>\n",
              "      <td>12</td>\n",
              "      <td>0</td>\n",
              "      <td>0</td>\n",
              "      <td>40</td>\n",
              "      <td>134</td>\n",
              "      <td>162</td>\n",
              "      <td>191</td>\n",
              "      <td>214</td>\n",
              "      <td>163</td>\n",
              "      <td>146</td>\n",
              "      <td>165</td>\n",
              "      <td>79</td>\n",
              "      <td>0</td>\n",
              "      <td>0</td>\n",
              "      <td>0</td>\n",
              "      <td>30</td>\n",
              "      <td>43</td>\n",
              "      <td>0</td>\n",
              "      <td>0</td>\n",
              "      <td>0</td>\n",
              "      <td>0</td>\n",
              "      <td>0</td>\n",
              "    </tr>\n",
              "    <tr>\n",
              "      <th>3</th>\n",
              "      <td>0</td>\n",
              "      <td>0</td>\n",
              "      <td>0</td>\n",
              "      <td>1</td>\n",
              "      <td>2</td>\n",
              "      <td>0</td>\n",
              "      <td>0</td>\n",
              "      <td>0</td>\n",
              "      <td>0</td>\n",
              "      <td>0</td>\n",
              "      <td>114</td>\n",
              "      <td>183</td>\n",
              "      <td>112</td>\n",
              "      <td>55</td>\n",
              "      <td>23</td>\n",
              "      <td>72</td>\n",
              "      <td>102</td>\n",
              "      <td>165</td>\n",
              "      <td>160</td>\n",
              "      <td>28</td>\n",
              "      <td>0</td>\n",
              "      <td>0</td>\n",
              "      <td>0</td>\n",
              "      <td>1</td>\n",
              "      <td>0</td>\n",
              "      <td>0</td>\n",
              "      <td>0</td>\n",
              "      <td>0</td>\n",
              "      <td>0</td>\n",
              "      <td>0</td>\n",
              "      <td>0</td>\n",
              "      <td>0</td>\n",
              "      <td>1</td>\n",
              "      <td>0</td>\n",
              "      <td>0</td>\n",
              "      <td>24</td>\n",
              "      <td>188</td>\n",
              "      <td>163</td>\n",
              "      <td>93</td>\n",
              "      <td>136</td>\n",
              "      <td>...</td>\n",
              "      <td>171</td>\n",
              "      <td>249</td>\n",
              "      <td>207</td>\n",
              "      <td>197</td>\n",
              "      <td>202</td>\n",
              "      <td>45</td>\n",
              "      <td>0</td>\n",
              "      <td>3</td>\n",
              "      <td>0</td>\n",
              "      <td>0</td>\n",
              "      <td>0</td>\n",
              "      <td>0</td>\n",
              "      <td>0</td>\n",
              "      <td>0</td>\n",
              "      <td>0</td>\n",
              "      <td>0</td>\n",
              "      <td>0</td>\n",
              "      <td>0</td>\n",
              "      <td>1</td>\n",
              "      <td>0</td>\n",
              "      <td>0</td>\n",
              "      <td>0</td>\n",
              "      <td>22</td>\n",
              "      <td>21</td>\n",
              "      <td>25</td>\n",
              "      <td>69</td>\n",
              "      <td>52</td>\n",
              "      <td>45</td>\n",
              "      <td>74</td>\n",
              "      <td>39</td>\n",
              "      <td>3</td>\n",
              "      <td>0</td>\n",
              "      <td>0</td>\n",
              "      <td>0</td>\n",
              "      <td>0</td>\n",
              "      <td>1</td>\n",
              "      <td>0</td>\n",
              "      <td>0</td>\n",
              "      <td>0</td>\n",
              "      <td>0</td>\n",
              "    </tr>\n",
              "    <tr>\n",
              "      <th>4</th>\n",
              "      <td>0</td>\n",
              "      <td>0</td>\n",
              "      <td>0</td>\n",
              "      <td>0</td>\n",
              "      <td>0</td>\n",
              "      <td>0</td>\n",
              "      <td>0</td>\n",
              "      <td>0</td>\n",
              "      <td>0</td>\n",
              "      <td>0</td>\n",
              "      <td>0</td>\n",
              "      <td>0</td>\n",
              "      <td>46</td>\n",
              "      <td>0</td>\n",
              "      <td>21</td>\n",
              "      <td>68</td>\n",
              "      <td>0</td>\n",
              "      <td>0</td>\n",
              "      <td>0</td>\n",
              "      <td>0</td>\n",
              "      <td>0</td>\n",
              "      <td>0</td>\n",
              "      <td>0</td>\n",
              "      <td>0</td>\n",
              "      <td>0</td>\n",
              "      <td>0</td>\n",
              "      <td>0</td>\n",
              "      <td>0</td>\n",
              "      <td>0</td>\n",
              "      <td>0</td>\n",
              "      <td>0</td>\n",
              "      <td>0</td>\n",
              "      <td>0</td>\n",
              "      <td>0</td>\n",
              "      <td>0</td>\n",
              "      <td>0</td>\n",
              "      <td>25</td>\n",
              "      <td>187</td>\n",
              "      <td>189</td>\n",
              "      <td>0</td>\n",
              "      <td>...</td>\n",
              "      <td>230</td>\n",
              "      <td>237</td>\n",
              "      <td>229</td>\n",
              "      <td>0</td>\n",
              "      <td>0</td>\n",
              "      <td>1</td>\n",
              "      <td>0</td>\n",
              "      <td>0</td>\n",
              "      <td>0</td>\n",
              "      <td>0</td>\n",
              "      <td>0</td>\n",
              "      <td>0</td>\n",
              "      <td>0</td>\n",
              "      <td>0</td>\n",
              "      <td>0</td>\n",
              "      <td>0</td>\n",
              "      <td>0</td>\n",
              "      <td>0</td>\n",
              "      <td>0</td>\n",
              "      <td>0</td>\n",
              "      <td>0</td>\n",
              "      <td>68</td>\n",
              "      <td>116</td>\n",
              "      <td>112</td>\n",
              "      <td>136</td>\n",
              "      <td>147</td>\n",
              "      <td>144</td>\n",
              "      <td>121</td>\n",
              "      <td>102</td>\n",
              "      <td>63</td>\n",
              "      <td>0</td>\n",
              "      <td>0</td>\n",
              "      <td>0</td>\n",
              "      <td>0</td>\n",
              "      <td>0</td>\n",
              "      <td>0</td>\n",
              "      <td>0</td>\n",
              "      <td>0</td>\n",
              "      <td>0</td>\n",
              "      <td>0</td>\n",
              "    </tr>\n",
              "  </tbody>\n",
              "</table>\n",
              "<p>5 rows × 784 columns</p>\n",
              "</div>"
            ],
            "text/plain": [
              "   pixel1  pixel2  pixel3  pixel4  ...  pixel781  pixel782  pixel783  pixel784\n",
              "0       0       0       0       0  ...         0         0         0         0\n",
              "1       0       0       0       0  ...         0         0         0         0\n",
              "2       0       0       0       0  ...         0         0         0         0\n",
              "3       0       0       0       1  ...         0         0         0         0\n",
              "4       0       0       0       0  ...         0         0         0         0\n",
              "\n",
              "[5 rows x 784 columns]"
            ]
          },
          "metadata": {
            "tags": []
          },
          "execution_count": 71
        }
      ]
    },
    {
      "cell_type": "code",
      "metadata": {
        "colab_type": "code",
        "id": "is_DbFWFImsa",
        "outputId": "d7a68d72-b72d-46d9-d6bc-410765896708",
        "colab": {
          "base_uri": "https://localhost:8080/",
          "height": 34
        }
      },
      "source": [
        "train.shape"
      ],
      "execution_count": 72,
      "outputs": [
        {
          "output_type": "execute_result",
          "data": {
            "text/plain": [
              "(60000, 784)"
            ]
          },
          "metadata": {
            "tags": []
          },
          "execution_count": 72
        }
      ]
    },
    {
      "cell_type": "code",
      "metadata": {
        "colab_type": "code",
        "id": "qWbviKaVImsb",
        "colab": {}
      },
      "source": [
        "train_ar = np.array(train)\n",
        "train_ar = train_ar.reshape(-1, 28, 28,1)"
      ],
      "execution_count": 0,
      "outputs": []
    },
    {
      "cell_type": "code",
      "metadata": {
        "colab_type": "code",
        "id": "wBh2aU5QSVfP",
        "outputId": "45aac4d3-a42b-4519-d4c5-c98e23d2aa41",
        "colab": {
          "base_uri": "https://localhost:8080/",
          "height": 269
        }
      },
      "source": [
        "plt.imshow(train_ar[0].reshape(28,28))\n",
        "plt.show()"
      ],
      "execution_count": 74,
      "outputs": [
        {
          "output_type": "display_data",
          "data": {
            "image/png": "[encoded data removed]",
            "text/plain": [
              "<Figure size 432x288 with 1 Axes>"
            ]
          },
          "metadata": {
            "tags": []
          }
        }
      ]
    },
    {
      "cell_type": "code",
      "metadata": {
        "colab_type": "code",
        "id": "ee_m6egWImsd",
        "outputId": "ec12eaa6-8b51-4fc0-bb20-28a472d4ef65",
        "colab": {
          "base_uri": "https://localhost:8080/",
          "height": 34
        }
      },
      "source": [
        "train_ar[0].shape"
      ],
      "execution_count": 75,
      "outputs": [
        {
          "output_type": "execute_result",
          "data": {
            "text/plain": [
              "(28, 28, 1)"
            ]
          },
          "metadata": {
            "tags": []
          },
          "execution_count": 75
        }
      ]
    },
    {
      "cell_type": "code",
      "metadata": {
        "colab_type": "code",
        "id": "fbVdf52qImsg",
        "colab": {}
      },
      "source": [
        "with graph.as_default():\n",
        "    '''\n",
        "    Defining loss function and optimizer\n",
        "    '''\n",
        "    loss = tf.nn.sigmoid_cross_entropy_with_logits(labels=Y, logits=logits)\n",
        "    lr = tf.placeholder(tf.float32, shape=[])\n",
        "    cost = tf.reduce_mean(loss, name ='cost')\n",
        "    opt = tf.train.AdamOptimizer(learning_rate=lr, name='opt').minimize(cost) #optimizer\n",
        "    \n",
        "    summaryMerged = tf.summary.merge_all() #For tensorboard\n",
        "    filename=\"./summary_log/run-\"+time.strftime(\"%d%m-%H%M%S\")"
      ],
      "execution_count": 0,
      "outputs": []
    },
    {
      "cell_type": "code",
      "metadata": {
        "colab_type": "code",
        "id": "UpqwrvegImsh",
        "outputId": "fc57c6dd-9a33-4689-dfa5-2db12e84383a",
        "colab": {
          "base_uri": "https://localhost:8080/",
          "height": 357
        }
      },
      "source": [
        "'''\n",
        "Ran 10 epochs with learning rate decay and different mini batch sizes.\n",
        "Every 10 epochs,\n",
        "training had stopped and checked the model performance by ploting 'predicted duplicates' \n",
        "of random products and validated\n",
        "'''\n",
        "\n",
        "minibatch_size = 256\n",
        "epoch = 10\n",
        "learning_rate = 0.00002\n",
        "\n",
        "with tf.Session(graph=graph) as sess:\n",
        "    writer = tf.summary.FileWriter(filename, sess.graph) \n",
        "    sess.run(tf.global_variables_initializer())\n",
        "    saver = tf.train.Saver()\n",
        "#     saver.restore(sess, tf.train.latest_checkpoint('./saved_model/'))\n",
        "    for ep in range(epoch):\n",
        "      avg_cost = 0\n",
        "      batch_costs=[]\n",
        "      for i, minibatch in enumerate(iterate_minibatches(train_ar, minibatch_size)):\n",
        "        batch_cost, _ = sess.run([cost, opt], feed_dict={X: minibatch/255,\n",
        "                                                             Y: minibatch/255,\n",
        "                                                            lr: learning_rate})\n",
        "        batch_costs.append(batch_cost)\n",
        "      print(i)\n",
        "      print(\"Epoch: {}/{}...\".format(ep+1, epoch), \\\n",
        "                  \"Training loss: {:.4f}\".format(batch_cost/i))\n",
        "    saver.save(sess, \"./saved_model/model\")"
      ],
      "execution_count": 77,
      "outputs": [
        {
          "output_type": "stream",
          "text": [
            "234\n",
            "Epoch: 1/10... Training loss: 0.0029\n",
            "234\n",
            "Epoch: 2/10... Training loss: 0.0028\n",
            "234\n",
            "Epoch: 3/10... Training loss: 0.0026\n",
            "234\n",
            "Epoch: 4/10... Training loss: 0.0024\n",
            "234\n",
            "Epoch: 5/10... Training loss: 0.0023\n",
            "234\n",
            "Epoch: 6/10... Training loss: 0.0021\n",
            "234\n",
            "Epoch: 7/10... Training loss: 0.0020\n",
            "234\n",
            "Epoch: 8/10... Training loss: 0.0019\n",
            "234\n",
            "Epoch: 9/10... Training loss: 0.0019\n",
            "234\n",
            "Epoch: 10/10... Training loss: 0.0018\n"
          ],
          "name": "stdout"
        }
      ]
    },
    {
      "cell_type": "code",
      "metadata": {
        "colab_type": "code",
        "id": "-FNBI75EImsj",
        "outputId": "7ebbc46d-3431-4944-92ee-bb5df588ffb2",
        "colab": {
          "base_uri": "https://localhost:8080/",
          "height": 136
        }
      },
      "source": [
        "train1 = pd.read_csv('./fashion-mnist_train.csv')\n",
        "train1 = np.array(train1)\n",
        "train1[:,:1]"
      ],
      "execution_count": 78,
      "outputs": [
        {
          "output_type": "execute_result",
          "data": {
            "text/plain": [
              "array([[2],\n",
              "       [9],\n",
              "       [6],\n",
              "       ...,\n",
              "       [8],\n",
              "       [8],\n",
              "       [7]])"
            ]
          },
          "metadata": {
            "tags": []
          },
          "execution_count": 78
        }
      ]
    },
    {
      "cell_type": "code",
      "metadata": {
        "colab_type": "code",
        "id": "ij4Aq0InImsl",
        "outputId": "485b2b67-acf9-4a3b-8876-9a6616b3465b",
        "colab": {
          "base_uri": "https://localhost:8080/",
          "height": 119
        }
      },
      "source": [
        "'''\n",
        "Read all images; \n",
        "Calculate embeddings for each images\n",
        "Append the embeddings and product index to two seperate arrays\n",
        "'''\n",
        "limit = 99999\n",
        "IMG_SIZE = 64\n",
        "embeddings = []\n",
        "labels = []\n",
        "with tf.Session(graph=graph) as sess:\n",
        "    saver = tf.train.Saver()\n",
        "    saver.restore(sess, tf.train.latest_checkpoint('./saved_model/'))\n",
        "    for i, im in (enumerate(range(len(train_ar)))):\n",
        "      img = train_ar[im].reshape(1,28,28,1)\n",
        " \n",
        "          \n",
        "      img = img/255.0\n",
        "    \n",
        "      embeddings.append(sess.run(encoded,feed_dict={X:img}).reshape(-1,16))\n",
        "      if i%10000 ==0:\n",
        "        print(i)\n",
        "#       labels.append(int(path.split('.')[-2].split('-')[-1]))  \n",
        "#             print(int(path.split('.')[-2].split('-')[-1]))\n",
        "# labels = np.array(labels)\n",
        "embeddings = np.array(np.squeeze(embeddings))"
      ],
      "execution_count": 79,
      "outputs": [
        {
          "output_type": "stream",
          "text": [
            "0\n",
            "10000\n",
            "20000\n",
            "30000\n",
            "40000\n",
            "50000\n"
          ],
          "name": "stdout"
        }
      ]
    },
    {
      "cell_type": "code",
      "metadata": {
        "colab_type": "code",
        "id": "lliykKCXImsm",
        "colab": {}
      },
      "source": [
        "# for op in graph2.get_operations():\n",
        "#      print(op.name)"
      ],
      "execution_count": 0,
      "outputs": []
    },
    {
      "cell_type": "code",
      "metadata": {
        "colab_type": "code",
        "id": "7lbBPbcoImsn",
        "colab": {}
      },
      "source": [
        "'''\n",
        "Writing the weights to pb file for prediction/serving\n",
        "'''\n",
        "graph2 = tf.Graph()\n",
        "with tf.Session(graph=graph2) as sess:\n",
        "    saver = tf.train.import_meta_graph('./saved_model/model.meta')\n",
        "    input_graph_def = tf.get_default_graph().as_graph_def()\n",
        "    saver.restore(sess, \"./saved_model/model\")\n",
        "    \n",
        "    output_node_names=\"encoding/encoding/AvgPool\"\n",
        "    output_graph_def = tf.graph_util.convert_variables_to_constants(sess,\n",
        "                                                      input_graph_def,\n",
        "                                                      output_node_names.split(\",\"))\n",
        "    output_graph=\"./pb/TunicsEncoder-v0.1.pb\"\n",
        "    with tf.gfile.GFile(output_graph, \"wb\") as f:\n",
        "        f.write(output_graph_def.SerializeToString())"
      ],
      "execution_count": 0,
      "outputs": []
    },
    {
      "cell_type": "code",
      "metadata": {
        "colab_type": "code",
        "id": "VcdtzIs-VJsC",
        "colab": {
          "base_uri": "https://localhost:8080/",
          "height": 63
        },
        "outputId": "632adc55-1082-4f1f-c751-d685526cf238"
      },
      "source": [
        "!mkdir pb"
      ],
      "execution_count": 82,
      "outputs": [
        {
          "output_type": "stream",
          "text": [
            "mkdir: cannot create directory ‘pb’: File exists\n"
          ],
          "name": "stdout"
        }
      ]
    },
    {
      "cell_type": "code",
      "metadata": {
        "colab_type": "code",
        "id": "ncTQJLOCVZgO",
        "colab": {
          "base_uri": "https://localhost:8080/",
          "height": 63
        },
        "outputId": "d8134415-d2a1-4755-95ab-2391ddc4e38f"
      },
      "source": [
        "!mkdir Embeddings"
      ],
      "execution_count": 83,
      "outputs": [
        {
          "output_type": "stream",
          "text": [
            "mkdir: cannot create directory ‘Embeddings’: File exists\n"
          ],
          "name": "stdout"
        }
      ]
    },
    {
      "cell_type": "code",
      "metadata": {
        "colab_type": "code",
        "id": "_jP5XHcNVn1h",
        "outputId": "e0dd1fd4-f8c5-4799-bda9-397ddb63e30b",
        "colab": {
          "base_uri": "https://localhost:8080/",
          "height": 34
        }
      },
      "source": [
        "960000/256\n"
      ],
      "execution_count": 84,
      "outputs": [
        {
          "output_type": "execute_result",
          "data": {
            "text/plain": [
              "3750.0"
            ]
          },
          "metadata": {
            "tags": []
          },
          "execution_count": 84
        }
      ]
    },
    {
      "cell_type": "code",
      "metadata": {
        "colab_type": "code",
        "id": "s6zWIEE9Imso",
        "colab": {}
      },
      "source": [
        "'''\n",
        "Dumping and saving  to .npy format.\n",
        "Used for development purpose; had to restart notebokk several time, this method of reading is always faster.\n",
        "'''\n",
        "np.save('./Embeddings/embeddings.npy', embeddings)\n",
        "np.save('./Embeddings/labels.npy', labels)\n",
        "embeddings = np.load('./Embeddings/embeddings.npy').reshape(60000,16)  #since 37547 items\n",
        "# labels = np.load('./Embeddings/labels.npy').reshape(3750,)"
      ],
      "execution_count": 0,
      "outputs": []
    },
    {
      "cell_type": "code",
      "metadata": {
        "colab_type": "code",
        "id": "KxsL7ANJImsp",
        "colab": {}
      },
      "source": [
        "'''\n",
        "Creating Dataframe with each embeddings elements as columns(total 256 columns) and coresponding labels as the index\n",
        "'''\n",
        "data = pd.DataFrame(embeddings)\n",
        "# data['labels'] = labels\n",
        "# data.set_index('labels', inplace=True)\n",
        "data.sort_index(inplace=True)"
      ],
      "execution_count": 0,
      "outputs": []
    },
    {
      "cell_type": "code",
      "metadata": {
        "colab_type": "code",
        "id": "4BfzfFQuImsp",
        "outputId": "f742027a-398e-4838-c3da-ea79cc533759",
        "colab": {
          "base_uri": "https://localhost:8080/",
          "height": 204
        }
      },
      "source": [
        "data.head()"
      ],
      "execution_count": 87,
      "outputs": [
        {
          "output_type": "execute_result",
          "data": {
            "text/html": [
              "<div>\n",
              "<style scoped>\n",
              "    .dataframe tbody tr th:only-of-type {\n",
              "        vertical-align: middle;\n",
              "    }\n",
              "\n",
              "    .dataframe tbody tr th {\n",
              "        vertical-align: top;\n",
              "    }\n",
              "\n",
              "    .dataframe thead th {\n",
              "        text-align: right;\n",
              "    }\n",
              "</style>\n",
              "<table border=\"1\" class=\"dataframe\">\n",
              "  <thead>\n",
              "    <tr style=\"text-align: right;\">\n",
              "      <th></th>\n",
              "      <th>0</th>\n",
              "      <th>1</th>\n",
              "      <th>2</th>\n",
              "      <th>3</th>\n",
              "      <th>4</th>\n",
              "      <th>5</th>\n",
              "      <th>6</th>\n",
              "      <th>7</th>\n",
              "      <th>8</th>\n",
              "      <th>9</th>\n",
              "      <th>10</th>\n",
              "      <th>11</th>\n",
              "      <th>12</th>\n",
              "      <th>13</th>\n",
              "      <th>14</th>\n",
              "      <th>15</th>\n",
              "    </tr>\n",
              "  </thead>\n",
              "  <tbody>\n",
              "    <tr>\n",
              "      <th>0</th>\n",
              "      <td>0.763202</td>\n",
              "      <td>-0.268274</td>\n",
              "      <td>-0.191803</td>\n",
              "      <td>-0.142485</td>\n",
              "      <td>1.925211</td>\n",
              "      <td>1.174257</td>\n",
              "      <td>-0.250867</td>\n",
              "      <td>3.197595</td>\n",
              "      <td>1.426911</td>\n",
              "      <td>1.162868</td>\n",
              "      <td>2.869175</td>\n",
              "      <td>-0.314382</td>\n",
              "      <td>-0.340798</td>\n",
              "      <td>0.534299</td>\n",
              "      <td>1.446474</td>\n",
              "      <td>0.223852</td>\n",
              "    </tr>\n",
              "    <tr>\n",
              "      <th>1</th>\n",
              "      <td>0.978905</td>\n",
              "      <td>-0.165053</td>\n",
              "      <td>-0.166581</td>\n",
              "      <td>-0.096085</td>\n",
              "      <td>1.660206</td>\n",
              "      <td>1.610750</td>\n",
              "      <td>-0.124042</td>\n",
              "      <td>1.712572</td>\n",
              "      <td>1.655567</td>\n",
              "      <td>0.862424</td>\n",
              "      <td>1.627561</td>\n",
              "      <td>-0.186789</td>\n",
              "      <td>-0.211613</td>\n",
              "      <td>0.172309</td>\n",
              "      <td>0.723912</td>\n",
              "      <td>0.433578</td>\n",
              "    </tr>\n",
              "    <tr>\n",
              "      <th>2</th>\n",
              "      <td>0.340120</td>\n",
              "      <td>-0.271294</td>\n",
              "      <td>-0.180463</td>\n",
              "      <td>-0.167365</td>\n",
              "      <td>2.042164</td>\n",
              "      <td>0.890669</td>\n",
              "      <td>-0.220301</td>\n",
              "      <td>3.100001</td>\n",
              "      <td>1.175439</td>\n",
              "      <td>1.338968</td>\n",
              "      <td>2.893892</td>\n",
              "      <td>-0.310848</td>\n",
              "      <td>-0.341146</td>\n",
              "      <td>0.428659</td>\n",
              "      <td>1.333570</td>\n",
              "      <td>0.163761</td>\n",
              "    </tr>\n",
              "    <tr>\n",
              "      <th>3</th>\n",
              "      <td>0.230451</td>\n",
              "      <td>-0.239975</td>\n",
              "      <td>-0.148446</td>\n",
              "      <td>-0.158216</td>\n",
              "      <td>1.752582</td>\n",
              "      <td>0.639761</td>\n",
              "      <td>-0.186109</td>\n",
              "      <td>2.692811</td>\n",
              "      <td>1.001415</td>\n",
              "      <td>1.294887</td>\n",
              "      <td>2.567509</td>\n",
              "      <td>-0.281718</td>\n",
              "      <td>-0.308686</td>\n",
              "      <td>0.285665</td>\n",
              "      <td>1.077032</td>\n",
              "      <td>0.047609</td>\n",
              "    </tr>\n",
              "    <tr>\n",
              "      <th>4</th>\n",
              "      <td>0.222948</td>\n",
              "      <td>-0.255069</td>\n",
              "      <td>-0.162406</td>\n",
              "      <td>-0.174891</td>\n",
              "      <td>1.985341</td>\n",
              "      <td>0.792004</td>\n",
              "      <td>-0.195603</td>\n",
              "      <td>2.865238</td>\n",
              "      <td>1.161863</td>\n",
              "      <td>1.621006</td>\n",
              "      <td>2.783281</td>\n",
              "      <td>-0.302337</td>\n",
              "      <td>-0.334673</td>\n",
              "      <td>0.285998</td>\n",
              "      <td>1.122028</td>\n",
              "      <td>0.077872</td>\n",
              "    </tr>\n",
              "  </tbody>\n",
              "</table>\n",
              "</div>"
            ],
            "text/plain": [
              "         0         1         2   ...        13        14        15\n",
              "0  0.763202 -0.268274 -0.191803  ...  0.534299  1.446474  0.223852\n",
              "1  0.978905 -0.165053 -0.166581  ...  0.172309  0.723912  0.433578\n",
              "2  0.340120 -0.271294 -0.180463  ...  0.428659  1.333570  0.163761\n",
              "3  0.230451 -0.239975 -0.148446  ...  0.285665  1.077032  0.047609\n",
              "4  0.222948 -0.255069 -0.162406  ...  0.285998  1.122028  0.077872\n",
              "\n",
              "[5 rows x 16 columns]"
            ]
          },
          "metadata": {
            "tags": []
          },
          "execution_count": 87
        }
      ]
    },
    {
      "cell_type": "code",
      "metadata": {
        "colab_type": "code",
        "id": "376i0q-KImsq",
        "colab": {}
      },
      "source": [
        "def getEmbeddings(idx):\n",
        "  \n",
        "  '''\n",
        "  Calculates embedding vector given a single image\n",
        "  input: index of single image to be tested\n",
        "  return: Embeddings of shape (256,)\n",
        "  '''\n",
        "  IMG_SIZE = 64\n",
        "  \n",
        " \n",
        "  img = train_ar[idx].reshape(1,28,28,1)\n",
        "  img = img/255.0\n",
        "    \n",
        "#     img = cv2.imread('./train/im-400-{}.jpg'.format(idx))\n",
        "#     img = cv2.cvtColor(img, cv2.COLOR_BGR2RGB)\n",
        "#     img = cv2.resize(img, (IMG_SIZE,IMG_SIZE))\n",
        "#     img = img/255.0\n",
        "    \n",
        "  with tf.Session(graph=graph) as sess:\n",
        "      saver = tf.train.Saver()\n",
        "      saver.restore(sess, tf.train.latest_checkpoint('./saved_model/'))\n",
        "      dist = sess.run(encoded,feed_dict={X:img.reshape((-1,28,28,1))})\n",
        "  \n",
        "  return np.squeeze(dist.reshape(-1,16))"
      ],
      "execution_count": 0,
      "outputs": []
    },
    {
      "cell_type": "code",
      "metadata": {
        "colab_type": "code",
        "id": "FFnXqrB7Imsr",
        "colab": {}
      },
      "source": [
        "#Reading images with index of 'scores' dataframe\n",
        "def getPredictedImages(score):\n",
        "    '''\n",
        "    loading images with id equals to index of 'score'\n",
        "    '''\n",
        "    images = []\n",
        "    IMG_SIZE = 200\n",
        "    for idx in score.index:\n",
        "      \n",
        "      \n",
        "      img = train_ar[idx].reshape(1,28,28,1)\n",
        "      \n",
        "      \n",
        "#         path = './train/im-400-{}.jpg'.format(idx)\n",
        "#         img = Image.open(path)\n",
        "#         img  = make_square(img)\n",
        "#         img = cv2.cvtColor(np.array(img), cv2.COLOR_RGB2BGR)\n",
        "#         img = cv2.cvtColor(img, cv2.COLOR_BGR2RGB)\n",
        "#         img = cv2.resize(img, (IMG_SIZE,IMG_SIZE))\n",
        "      images.append([np.array(img)])\n",
        "    return np.array(images).reshape(-1,28,28,1)"
      ],
      "execution_count": 0,
      "outputs": []
    },
    {
      "cell_type": "code",
      "metadata": {
        "colab_type": "code",
        "id": "TA5kLOi_Imss",
        "colab": {}
      },
      "source": [
        "def getPredictions(testEmbeddings):\n",
        "    '''\n",
        "    input: Embeddings a single test image; shape- (256,)\n",
        "    return: Dataframe contains details of top 10 similar images\n",
        "    and \n",
        "    '''\n",
        "    dist = (np.array(data) - testEmbeddings)**2\n",
        "    dist = np.sum(dist, axis=1)\n",
        "    dist = np.sqrt(dist)    \n",
        "    '''\n",
        "    dist : Euclidean distance between testEmbedding and embeddings of all the images. dtype: numpy array\n",
        "    '''\n",
        "    \n",
        "    df = pd.DataFrame({'distance':dist})\n",
        "    df.index = data.index\n",
        "    df.sort_values('distance', ascending=True, inplace=True) \n",
        "    score = df[:10] #Taking highest 10 \n",
        "    score['score'] = df.distance[:10].apply(lambda x: np.round(1-np.tanh(x)**10, 3)).values\n",
        "    '''\n",
        "    tanh is used to map distance to 0 to 1\n",
        "    '''\n",
        "    return score"
      ],
      "execution_count": 0,
      "outputs": []
    },
    {
      "cell_type": "code",
      "metadata": {
        "colab_type": "code",
        "id": "wYr_PNKfwJMD",
        "colab": {}
      },
      "source": [
        ""
      ],
      "execution_count": 0,
      "outputs": []
    },
    {
      "cell_type": "code",
      "metadata": {
        "colab_type": "code",
        "id": "mv6aYdmaImst",
        "colab": {}
      },
      "source": [
        "def getTestimage(idx):\n",
        "    '''\n",
        "    This is for ploting the original image\n",
        "    reads image from directory given index\n",
        "    '''\n",
        "    img = train_ar[idx].reshape(28,28)\n",
        "    return img"
      ],
      "execution_count": 0,
      "outputs": []
    },
    {
      "cell_type": "code",
      "metadata": {
        "colab_type": "code",
        "id": "0Hl7odeAImst",
        "colab": {}
      },
      "source": [
        "def plotImages(idx, im, images, score):\n",
        "    images = images.reshape(-1,28,28)\n",
        "    fig, axes = plt.subplots(5,2, figsize = (15,25))\n",
        "    fig.subplots_adjust(hspace = 0.3, wspace = 0.3)\n",
        "    \n",
        "    for i, ax in enumerate(axes.flat):\n",
        "        if i==0:\n",
        "            idX = getinfo(idx)\n",
        "            ax.imshow(im, cmap = 'binary')\n",
        "            xlabel = \"Original image \".format(idX)\n",
        "            ax.set_xlabel(xlabel, fontsize = 13)\n",
        "        else:    \n",
        "            ax.imshow(images[i-1], cmap = 'binary')\n",
        "            print(i)\n",
        "            idX = getinfo(score.index[i])\n",
        "            xlabel = \"score: {} \\nid:{}\".format(score.score.iloc[i-1], idX)\n",
        "        \n",
        "            ax.set_xlabel(xlabel, fontsize = 12)\n",
        "        \n",
        "        #Remove axis ticks\n",
        "        ax.set_xticks([])\n",
        "        ax.set_yticks([])\n",
        "        \n",
        "    plt.show()"
      ],
      "execution_count": 0,
      "outputs": []
    },
    {
      "cell_type": "code",
      "metadata": {
        "colab_type": "code",
        "id": "NJchHKSSImsu",
        "colab": {}
      },
      "source": [
        "\n",
        "Data = pd.read_csv('./fashion-mnist_train.csv')\n",
        "Data = Data.label\n",
        "\n",
        "\n",
        "def getinfo(idx):\n",
        "    idX = Data[Data.index==idx].values[0]\n",
        "    return idX"
      ],
      "execution_count": 0,
      "outputs": []
    },
    {
      "cell_type": "code",
      "metadata": {
        "colab_type": "code",
        "id": "5WZ5544ofeEB",
        "outputId": "b32874b0-fd1c-41a0-971a-972a37608067",
        "colab": {
          "base_uri": "https://localhost:8080/",
          "height": 34
        }
      },
      "source": [
        "getinfo(4534)"
      ],
      "execution_count": 94,
      "outputs": [
        {
          "output_type": "execute_result",
          "data": {
            "text/plain": [
              "4"
            ]
          },
          "metadata": {
            "tags": []
          },
          "execution_count": 94
        }
      ]
    },
    {
      "cell_type": "code",
      "metadata": {
        "colab_type": "code",
        "id": "P11BfKNm6AtE",
        "outputId": "a4c6bbb4-7952-4fa7-87a3-23d9fc1057cd",
        "colab": {
          "base_uri": "https://localhost:8080/",
          "height": 34
        }
      },
      "source": [
        "Data = pd.read_csv('./fashion-mnist_train.csv')\n",
        "Data = Data.label\n",
        "Data[Data.index==4534].values[0]"
      ],
      "execution_count": 95,
      "outputs": [
        {
          "output_type": "execute_result",
          "data": {
            "text/plain": [
              "4"
            ]
          },
          "metadata": {
            "tags": []
          },
          "execution_count": 95
        }
      ]
    },
    {
      "cell_type": "code",
      "metadata": {
        "colab_type": "code",
        "id": "Yy7ltBxNImsv",
        "outputId": "7f661222-2111-458d-f944-c279b491b6f8",
        "colab": {
          "base_uri": "https://localhost:8080/",
          "height": 1578
        }
      },
      "source": [
        "'''\n",
        "Testing one image\n",
        "'''\n",
        "idx = 4534\n",
        "testEmbeddings = getEmbeddings(idx)\n",
        "score = getPredictions(testEmbeddings)\n",
        "images =  getPredictedImages(score)\n",
        "im = getTestimage(idx)\n",
        "plotImages(idx, im, images, score)"
      ],
      "execution_count": 96,
      "outputs": [
        {
          "output_type": "stream",
          "text": [
            "1\n",
            "2\n",
            "3\n",
            "4\n",
            "5\n",
            "6\n",
            "7\n",
            "8\n",
            "9\n"
          ],
          "name": "stdout"
        },
        {
          "output_type": "display_data",
          "data": {
            "image/png": "[encoded data removed]",
            "text/plain": [
              "<Figure size 1080x1800 with 10 Axes>"
            ]
          },
          "metadata": {
            "tags": []
          }
        }
      ]
    },
    {
      "cell_type": "code",
      "metadata": {
        "colab_type": "code",
        "id": "7jdZKrInImsz",
        "colab": {}
      },
      "source": [
        ""
      ],
      "execution_count": 0,
      "outputs": []
    },
    {
      "cell_type": "code",
      "metadata": {
        "colab_type": "code",
        "id": "CHkWneknA0Nh",
        "colab": {}
      },
      "source": [
        ""
      ],
      "execution_count": 0,
      "outputs": []
    }
  ]
}