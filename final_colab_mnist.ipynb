{
  "nbformat": 4,
  "nbformat_minor": 0,
  "metadata": {
    "colab": {
      "name": "final-Copy1.ipynb",
      "version": "0.3.2",
      "provenance": []
    },
    "language_info": {
      "codemirror_mode": {
        "name": "ipython",
        "version": 3
      },
      "file_extension": ".py",
      "mimetype": "text/x-python",
      "name": "python",
      "nbconvert_exporter": "python",
      "pygments_lexer": "ipython3",
      "version": "3.6.3"
    },
    "kernelspec": {
      "name": "python3",
      "display_name": "Python 3"
    },
    "accelerator": "GPU"
  },
  "cells": [
    {
      "cell_type": "code",
      "metadata": {
        "id": "jrw6pQluImrt",
        "colab_type": "code",
        "colab": {}
      },
      "source": [
        "import warnings\n",
        "warnings.filterwarnings(\"ignore\")"
      ],
      "execution_count": 0,
      "outputs": []
    },
    {
      "cell_type": "code",
      "metadata": {
        "id": "My_tlYoeJXvs",
        "colab_type": "code",
        "colab": {
          "base_uri": "https://localhost:8080/",
          "height": 189
        },
        "outputId": "91c81a8f-c668-4f85-ea76-2b8110f0c827"
      },
      "source": [
        "from google.colab import drive\n",
        "drive.mount('/gdrive')"
      ],
      "execution_count": 2,
      "outputs": [
        {
          "output_type": "stream",
          "text": [
            "Go to this URL in a browser: https://accounts.google.com/o/oauth2/auth?client_id=947318989803-6bn6qk8qdgf4n4g3pfee6491hc0brc4i.apps.googleusercontent.com&redirect_uri=urn%3Aietf%3Awg%3Aoauth%3A2.0%3Aoob&scope=email%20https%3A%2F%2Fwww.googleapis.com%2Fauth%2Fdocs.test%20https%3A%2F%2Fwww.googleapis.com%2Fauth%2Fdrive%20https%3A%2F%2Fwww.googleapis.com%2Fauth%2Fdrive.photos.readonly%20https%3A%2F%2Fwww.googleapis.com%2Fauth%2Fpeopleapi.readonly&response_type=code\n",
            "\n",
            "Enter your authorization code:\n",
            "··········\n",
            "Mounted at /gdrive\n"
          ],
          "name": "stdout"
        }
      ]
    },
    {
      "cell_type": "code",
      "metadata": {
        "id": "sN5_l3SKQ4cJ",
        "colab_type": "code",
        "colab": {}
      },
      "source": [
        "cp -f /gdrive/My\\ Drive/fashion-mnist_train.csv ."
      ],
      "execution_count": 0,
      "outputs": []
    },
    {
      "cell_type": "code",
      "metadata": {
        "id": "g61tm3YCRCLR",
        "colab_type": "code",
        "colab": {}
      },
      "source": [
        "!cp -f /gdrive/My\\ Drive/alpha.py .\n",
        "!cp -f /gdrive/My\\ Drive/cnn_utils.py ."
      ],
      "execution_count": 0,
      "outputs": []
    },
    {
      "cell_type": "code",
      "metadata": {
        "id": "jrbdttvxRCOS",
        "colab_type": "code",
        "colab": {}
      },
      "source": [
        ""
      ],
      "execution_count": 0,
      "outputs": []
    },
    {
      "cell_type": "code",
      "metadata": {
        "id": "RXYmohQeQ4j-",
        "colab_type": "code",
        "colab": {}
      },
      "source": [
        ""
      ],
      "execution_count": 0,
      "outputs": []
    },
    {
      "cell_type": "code",
      "metadata": {
        "id": "Sh3U2zGmImrx",
        "colab_type": "code",
        "colab": {}
      },
      "source": [
        "\n",
        "from alpha import iterate_minibatches\n",
        "from alpha import saveGraph\n",
        "from alpha import lrelu\n",
        "from alpha import make_square\n",
        "from cnn_utils import  conv_layer, fc_layer"
      ],
      "execution_count": 0,
      "outputs": []
    },
    {
      "cell_type": "code",
      "metadata": {
        "id": "_xwe6aMoImr1",
        "colab_type": "code",
        "colab": {}
      },
      "source": [
        "import tensorflow as tf\n",
        "import os, cv2, random\n",
        "import numpy as np\n",
        "import pandas as pd\n",
        "import time, math\n",
        "import matplotlib.pyplot as plt\n",
        "from PIL import Image\n",
        "from tqdm import tqdm\n",
        "from collections import OrderedDict\n",
        "\n",
        "%matplotlib inline"
      ],
      "execution_count": 0,
      "outputs": []
    },
    {
      "cell_type": "code",
      "metadata": {
        "id": "FWyEJlBQImr4",
        "colab_type": "code",
        "colab": {
          "base_uri": "https://localhost:8080/",
          "height": 34
        },
        "outputId": "497c6bc5-5d3b-4a45-cc74-53090a2ab8a8"
      },
      "source": [
        "tf.__version__"
      ],
      "execution_count": 7,
      "outputs": [
        {
          "output_type": "execute_result",
          "data": {
            "text/plain": [
              "'1.13.1'"
            ]
          },
          "metadata": {
            "tags": []
          },
          "execution_count": 7
        }
      ]
    },
    {
      "cell_type": "code",
      "metadata": {
        "id": "-swAmAWGImr9",
        "colab_type": "code",
        "colab": {
          "base_uri": "https://localhost:8080/",
          "height": 63
        },
        "outputId": "9d7959e0-9b26-47e2-fce4-679122649456"
      },
      "source": [
        "!ls"
      ],
      "execution_count": 8,
      "outputs": [
        {
          "output_type": "stream",
          "text": [
            "alpha.py  cnn_utils.py\tfashion-mnist_train.csv  __pycache__  sample_data\n"
          ],
          "name": "stdout"
        }
      ]
    },
    {
      "cell_type": "code",
      "metadata": {
        "id": "LEo1kmNdImsC",
        "colab_type": "code",
        "colab": {}
      },
      "source": [
        ""
      ],
      "execution_count": 0,
      "outputs": []
    },
    {
      "cell_type": "code",
      "metadata": {
        "id": "72z-8dvwImsG",
        "colab_type": "code",
        "colab": {}
      },
      "source": [
        ""
      ],
      "execution_count": 0,
      "outputs": []
    },
    {
      "cell_type": "code",
      "metadata": {
        "id": "Afc4kyimImsI",
        "colab_type": "code",
        "colab": {
          "base_uri": "https://localhost:8080/",
          "height": 34
        },
        "outputId": "ee08cf65-3bf8-4586-fc59-b6698c6c5585"
      },
      "source": [
        "import urllib\n",
        "urllib.request.urlretrieve(\"https://www.kaggle.com/zalando-research/fashionmnist/downloads/fashionmnist.zip\", \"file.zip\")"
      ],
      "execution_count": 8,
      "outputs": [
        {
          "output_type": "execute_result",
          "data": {
            "text/plain": [
              "('file.zip', <http.client.HTTPMessage at 0x7f02778dafd0>)"
            ]
          },
          "metadata": {
            "tags": []
          },
          "execution_count": 8
        }
      ]
    },
    {
      "cell_type": "code",
      "metadata": {
        "id": "1en_CPl5Oboz",
        "colab_type": "code",
        "colab": {
          "base_uri": "https://localhost:8080/",
          "height": 34
        },
        "outputId": "bc2efed7-9a53-49de-e425-e0421471b392"
      },
      "source": [
        "\n"
      ],
      "execution_count": 9,
      "outputs": [
        {
          "output_type": "stream",
          "text": [
            "Drive already mounted at /gdrive; to attempt to forcibly remount, call drive.mount(\"/gdrive\", force_remount=True).\n"
          ],
          "name": "stdout"
        }
      ]
    },
    {
      "cell_type": "code",
      "metadata": {
        "id": "93uP8jnhObru",
        "colab_type": "code",
        "colab": {}
      },
      "source": [
        "# cp -f ./fashion-mnist_train.csv /gdrive/My\\ Drive/"
      ],
      "execution_count": 0,
      "outputs": []
    },
    {
      "cell_type": "code",
      "metadata": {
        "id": "7yGEXoKqObt-",
        "colab_type": "code",
        "colab": {}
      },
      "source": [
        ""
      ],
      "execution_count": 0,
      "outputs": []
    },
    {
      "cell_type": "code",
      "metadata": {
        "id": "I4zyP-qkImsK",
        "colab_type": "code",
        "colab": {}
      },
      "source": [
        "'''\n",
        "Designing auto encoder network.\n",
        "'''\n",
        "graph = tf.Graph()"
      ],
      "execution_count": 0,
      "outputs": []
    },
    {
      "cell_type": "code",
      "metadata": {
        "id": "an088iz7ImsM",
        "colab_type": "code",
        "colab": {}
      },
      "source": [
        "with graph.as_default():\n",
        "    '''\n",
        "    two placeholder to place input and output images. \n",
        "    Technically this will be same image.\n",
        "    '''\n",
        "    X = tf.placeholder(tf.float32,[None,28,28,1])\n",
        "    Y = tf.placeholder(tf.float32,[None,28,28,1])"
      ],
      "execution_count": 0,
      "outputs": []
    },
    {
      "cell_type": "code",
      "metadata": {
        "id": "AC-_MDU3ImsO",
        "colab_type": "code",
        "colab": {
          "base_uri": "https://localhost:8080/",
          "height": 241
        },
        "outputId": "21c6bb1c-246f-42aa-e982-951504625164"
      },
      "source": [
        "'''\n",
        "Encoder network:\n",
        "    This will map the input image to a euclidian space\n",
        "    Name scope has added to view the network clearly on tensorboard\n",
        "'''\n",
        "with graph.as_default():\n",
        "    with tf.name_scope('en-convolutions'):\n",
        "        conv0 = tf.layers.conv2d(X,filters=4,kernel_size=(3,3),strides=(1,1),padding='SAME',use_bias=True,activation=lrelu,name='conv0')\n",
        "    with tf.name_scope('en-pooling'):\n",
        "        maxpool0 = tf.layers.max_pooling2d(conv0,pool_size=(2,2),strides=(2,2),name='pool0')     \n",
        "    \n",
        "    with tf.name_scope('en-convolutions'):\n",
        "        conv1 = tf.layers.conv2d(maxpool0,filters=4,kernel_size=(3,3),strides=(1,1),padding='SAME',use_bias=True,activation=lrelu,name='conv1')\n",
        "    with tf.name_scope('en-pooling'):\n",
        "        maxpool1 = tf.layers.max_pooling2d(conv1,pool_size=(2,2),strides=(2,2),name='pool1')\n",
        "    \n",
        "    with tf.name_scope('en-convolutions'):\n",
        "        conv2 = tf.layers.conv2d(maxpool1,filters=8,kernel_size=(3,3),strides=(1,1),padding='SAME',use_bias=True,activation=lrelu,name='conv2')\n",
        "    with tf.name_scope('en-pooling'):\n",
        "        maxpool2 = tf.layers.max_pooling2d(conv2,pool_size=(2,2),strides=(2,2),name='pool2')\n",
        "    \n",
        "    with tf.name_scope('en-convolutions'):\n",
        "        conv3 = tf.layers.conv2d(maxpool2,filters=16,kernel_size=(3,3),strides=(1,1),padding='SAME',use_bias=True,activation=lrelu,name='conv3')\n",
        "    with tf.name_scope('encoding'):\n",
        "        encoded = tf.layers.average_pooling2d(conv3,pool_size=(2,2),strides=(2,2),name='encoding')"
      ],
      "execution_count": 16,
      "outputs": [
        {
          "output_type": "stream",
          "text": [
            "WARNING:tensorflow:From <ipython-input-16-3135d05f7c25>:8: conv2d (from tensorflow.python.layers.convolutional) is deprecated and will be removed in a future version.\n",
            "Instructions for updating:\n",
            "Use keras.layers.conv2d instead.\n",
            "WARNING:tensorflow:From /usr/local/lib/python3.6/dist-packages/tensorflow/python/framework/op_def_library.py:263: colocate_with (from tensorflow.python.framework.ops) is deprecated and will be removed in a future version.\n",
            "Instructions for updating:\n",
            "Colocations handled automatically by placer.\n",
            "WARNING:tensorflow:From <ipython-input-16-3135d05f7c25>:10: max_pooling2d (from tensorflow.python.layers.pooling) is deprecated and will be removed in a future version.\n",
            "Instructions for updating:\n",
            "Use keras.layers.max_pooling2d instead.\n",
            "WARNING:tensorflow:From <ipython-input-16-3135d05f7c25>:25: average_pooling2d (from tensorflow.python.layers.pooling) is deprecated and will be removed in a future version.\n",
            "Instructions for updating:\n",
            "Use keras.layers.average_pooling2d instead.\n"
          ],
          "name": "stdout"
        }
      ]
    },
    {
      "cell_type": "code",
      "metadata": {
        "id": "v85ONPMNImsQ",
        "colab_type": "code",
        "colab": {
          "base_uri": "https://localhost:8080/",
          "height": 34
        },
        "outputId": "1b02f79f-61a6-4001-b80a-bef4eaf305eb"
      },
      "source": [
        "'''\n",
        "The last tensor, 'encoded',  will be a of shape (?, 4, 4, 16), which then will be flattened to shape (, 256).\n",
        "This will be the compressed representation of the input image\n",
        "'''\n",
        "encoded"
      ],
      "execution_count": 17,
      "outputs": [
        {
          "output_type": "execute_result",
          "data": {
            "text/plain": [
              "<tf.Tensor 'encoding/encoding/AvgPool:0' shape=(?, 1, 1, 16) dtype=float32>"
            ]
          },
          "metadata": {
            "tags": []
          },
          "execution_count": 17
        }
      ]
    },
    {
      "cell_type": "code",
      "metadata": {
        "id": "o_ynKSJzImsS",
        "colab_type": "code",
        "colab": {
          "base_uri": "https://localhost:8080/",
          "height": 128
        },
        "outputId": "148d8202-37a3-4b29-d1ac-86ee2be22940"
      },
      "source": [
        "'''\n",
        "Decoder network:\n",
        "This will map the encodings back to image of same input shape\n",
        "'''\n",
        "with graph.as_default():\n",
        "    with tf.name_scope('decoder'):\n",
        "        upsample1 = tf.layers.conv2d_transpose(encoded,filters=16,kernel_size=3,padding='valid',strides=2,name='upsample1')\n",
        "        conv4 = tf.layers.conv2d(upsample1,filters=16,kernel_size=(3,3),strides=(1,1),padding='SAME',name='conv4',use_bias=True,activation=lrelu)#upsample1 #\n",
        "        \n",
        "        upsample2 = tf.layers.conv2d_transpose(conv4,filters=8,kernel_size=3,padding='valid',strides=2,name='upsample2') \n",
        "        conv5 = tf.layers.conv2d(upsample2,filters=8,kernel_size=(3,3),strides=(1,1),name='conv5',padding='SAME',use_bias=True,activation=lrelu)#upsample2 #\n",
        "        \n",
        "        upsample3 = tf.layers.conv2d_transpose(conv5,filters=8,kernel_size=5,padding='same',strides=2,name='upsample3')\n",
        "        conv6 = tf.layers.conv2d(upsample3,filters=4,kernel_size=(5,5),strides=(1,1),name='conv6',padding='SAME',use_bias=True,activation=lrelu)\n",
        "        \n",
        "        upsample4 = tf.layers.conv2d_transpose(conv6,filters=8,kernel_size=5,padding='same',strides=2,name='upsample4')\n",
        "        conv7 = tf.layers.conv2d(upsample4,filters=4,kernel_size=(5,5),strides=(1,1),name='conv7',padding='SAME',use_bias=True,activation=lrelu)\n",
        "        \n",
        "        logits = tf.layers.conv2d(conv7,filters=1,kernel_size=(3,3),strides=(1,1),name='logits',padding='SAME',use_bias=True)\n",
        "        decoded = tf.sigmoid(logits,name='recon')"
      ],
      "execution_count": 18,
      "outputs": [
        {
          "output_type": "stream",
          "text": [
            "WARNING:tensorflow:From <ipython-input-18-00b23556e9c2>:7: conv2d_transpose (from tensorflow.python.layers.convolutional) is deprecated and will be removed in a future version.\n",
            "Instructions for updating:\n",
            "Use keras.layers.conv2d_transpose instead.\n"
          ],
          "name": "stdout"
        }
      ]
    },
    {
      "cell_type": "code",
      "metadata": {
        "id": "VX4x55zhImsT",
        "colab_type": "code",
        "colab": {
          "base_uri": "https://localhost:8080/",
          "height": 34
        },
        "outputId": "ba0d28b2-7d4f-4eb7-8087-899e97a32049"
      },
      "source": [
        "logits"
      ],
      "execution_count": 19,
      "outputs": [
        {
          "output_type": "execute_result",
          "data": {
            "text/plain": [
              "<tf.Tensor 'decoder/logits/BiasAdd:0' shape=(?, 28, 28, 1) dtype=float32>"
            ]
          },
          "metadata": {
            "tags": []
          },
          "execution_count": 19
        }
      ]
    },
    {
      "cell_type": "code",
      "metadata": {
        "scrolled": false,
        "id": "K6Xw-nepImsV",
        "colab_type": "code",
        "colab": {}
      },
      "source": [
        "# for op in graph.get_operations():\n",
        "#      print(op.name)"
      ],
      "execution_count": 0,
      "outputs": []
    },
    {
      "cell_type": "code",
      "metadata": {
        "id": "Hv0rO9StImsX",
        "colab_type": "code",
        "colab": {}
      },
      "source": [
        "dir = './train/fashionmnist/'"
      ],
      "execution_count": 0,
      "outputs": []
    },
    {
      "cell_type": "code",
      "metadata": {
        "id": "av9wdQcYImsY",
        "colab_type": "code",
        "colab": {
          "base_uri": "https://localhost:8080/",
          "height": 293
        },
        "outputId": "75ba5911-e4c8-42a3-87fa-e799362668e3"
      },
      "source": [
        "train = pd.read_csv('./fashion-mnist_train.csv')\n",
        "train = train.drop(columns='label')\n",
        "train.head()"
      ],
      "execution_count": 22,
      "outputs": [
        {
          "output_type": "execute_result",
          "data": {
            "text/html": [
              "<div>\n",
              "<style scoped>\n",
              "    .dataframe tbody tr th:only-of-type {\n",
              "        vertical-align: middle;\n",
              "    }\n",
              "\n",
              "    .dataframe tbody tr th {\n",
              "        vertical-align: top;\n",
              "    }\n",
              "\n",
              "    .dataframe thead th {\n",
              "        text-align: right;\n",
              "    }\n",
              "</style>\n",
              "<table border=\"1\" class=\"dataframe\">\n",
              "  <thead>\n",
              "    <tr style=\"text-align: right;\">\n",
              "      <th></th>\n",
              "      <th>pixel1</th>\n",
              "      <th>pixel2</th>\n",
              "      <th>pixel3</th>\n",
              "      <th>pixel4</th>\n",
              "      <th>pixel5</th>\n",
              "      <th>pixel6</th>\n",
              "      <th>pixel7</th>\n",
              "      <th>pixel8</th>\n",
              "      <th>pixel9</th>\n",
              "      <th>pixel10</th>\n",
              "      <th>pixel11</th>\n",
              "      <th>pixel12</th>\n",
              "      <th>pixel13</th>\n",
              "      <th>pixel14</th>\n",
              "      <th>pixel15</th>\n",
              "      <th>pixel16</th>\n",
              "      <th>pixel17</th>\n",
              "      <th>pixel18</th>\n",
              "      <th>pixel19</th>\n",
              "      <th>pixel20</th>\n",
              "      <th>pixel21</th>\n",
              "      <th>pixel22</th>\n",
              "      <th>pixel23</th>\n",
              "      <th>pixel24</th>\n",
              "      <th>pixel25</th>\n",
              "      <th>pixel26</th>\n",
              "      <th>pixel27</th>\n",
              "      <th>pixel28</th>\n",
              "      <th>pixel29</th>\n",
              "      <th>pixel30</th>\n",
              "      <th>pixel31</th>\n",
              "      <th>pixel32</th>\n",
              "      <th>pixel33</th>\n",
              "      <th>pixel34</th>\n",
              "      <th>pixel35</th>\n",
              "      <th>pixel36</th>\n",
              "      <th>pixel37</th>\n",
              "      <th>pixel38</th>\n",
              "      <th>pixel39</th>\n",
              "      <th>pixel40</th>\n",
              "      <th>...</th>\n",
              "      <th>pixel745</th>\n",
              "      <th>pixel746</th>\n",
              "      <th>pixel747</th>\n",
              "      <th>pixel748</th>\n",
              "      <th>pixel749</th>\n",
              "      <th>pixel750</th>\n",
              "      <th>pixel751</th>\n",
              "      <th>pixel752</th>\n",
              "      <th>pixel753</th>\n",
              "      <th>pixel754</th>\n",
              "      <th>pixel755</th>\n",
              "      <th>pixel756</th>\n",
              "      <th>pixel757</th>\n",
              "      <th>pixel758</th>\n",
              "      <th>pixel759</th>\n",
              "      <th>pixel760</th>\n",
              "      <th>pixel761</th>\n",
              "      <th>pixel762</th>\n",
              "      <th>pixel763</th>\n",
              "      <th>pixel764</th>\n",
              "      <th>pixel765</th>\n",
              "      <th>pixel766</th>\n",
              "      <th>pixel767</th>\n",
              "      <th>pixel768</th>\n",
              "      <th>pixel769</th>\n",
              "      <th>pixel770</th>\n",
              "      <th>pixel771</th>\n",
              "      <th>pixel772</th>\n",
              "      <th>pixel773</th>\n",
              "      <th>pixel774</th>\n",
              "      <th>pixel775</th>\n",
              "      <th>pixel776</th>\n",
              "      <th>pixel777</th>\n",
              "      <th>pixel778</th>\n",
              "      <th>pixel779</th>\n",
              "      <th>pixel780</th>\n",
              "      <th>pixel781</th>\n",
              "      <th>pixel782</th>\n",
              "      <th>pixel783</th>\n",
              "      <th>pixel784</th>\n",
              "    </tr>\n",
              "  </thead>\n",
              "  <tbody>\n",
              "    <tr>\n",
              "      <th>0</th>\n",
              "      <td>0</td>\n",
              "      <td>0</td>\n",
              "      <td>0</td>\n",
              "      <td>0</td>\n",
              "      <td>0</td>\n",
              "      <td>0</td>\n",
              "      <td>0</td>\n",
              "      <td>0</td>\n",
              "      <td>0</td>\n",
              "      <td>0</td>\n",
              "      <td>0</td>\n",
              "      <td>0</td>\n",
              "      <td>0</td>\n",
              "      <td>0</td>\n",
              "      <td>0</td>\n",
              "      <td>0</td>\n",
              "      <td>0</td>\n",
              "      <td>0</td>\n",
              "      <td>0</td>\n",
              "      <td>0</td>\n",
              "      <td>0</td>\n",
              "      <td>0</td>\n",
              "      <td>0</td>\n",
              "      <td>0</td>\n",
              "      <td>0</td>\n",
              "      <td>0</td>\n",
              "      <td>0</td>\n",
              "      <td>0</td>\n",
              "      <td>0</td>\n",
              "      <td>0</td>\n",
              "      <td>0</td>\n",
              "      <td>0</td>\n",
              "      <td>0</td>\n",
              "      <td>0</td>\n",
              "      <td>0</td>\n",
              "      <td>0</td>\n",
              "      <td>0</td>\n",
              "      <td>0</td>\n",
              "      <td>0</td>\n",
              "      <td>0</td>\n",
              "      <td>...</td>\n",
              "      <td>0</td>\n",
              "      <td>0</td>\n",
              "      <td>0</td>\n",
              "      <td>0</td>\n",
              "      <td>0</td>\n",
              "      <td>0</td>\n",
              "      <td>0</td>\n",
              "      <td>0</td>\n",
              "      <td>0</td>\n",
              "      <td>0</td>\n",
              "      <td>0</td>\n",
              "      <td>0</td>\n",
              "      <td>0</td>\n",
              "      <td>0</td>\n",
              "      <td>0</td>\n",
              "      <td>0</td>\n",
              "      <td>0</td>\n",
              "      <td>0</td>\n",
              "      <td>0</td>\n",
              "      <td>0</td>\n",
              "      <td>0</td>\n",
              "      <td>0</td>\n",
              "      <td>0</td>\n",
              "      <td>0</td>\n",
              "      <td>0</td>\n",
              "      <td>0</td>\n",
              "      <td>0</td>\n",
              "      <td>0</td>\n",
              "      <td>0</td>\n",
              "      <td>0</td>\n",
              "      <td>0</td>\n",
              "      <td>0</td>\n",
              "      <td>0</td>\n",
              "      <td>0</td>\n",
              "      <td>0</td>\n",
              "      <td>0</td>\n",
              "      <td>0</td>\n",
              "      <td>0</td>\n",
              "      <td>0</td>\n",
              "      <td>0</td>\n",
              "    </tr>\n",
              "    <tr>\n",
              "      <th>1</th>\n",
              "      <td>0</td>\n",
              "      <td>0</td>\n",
              "      <td>0</td>\n",
              "      <td>0</td>\n",
              "      <td>0</td>\n",
              "      <td>0</td>\n",
              "      <td>0</td>\n",
              "      <td>0</td>\n",
              "      <td>0</td>\n",
              "      <td>0</td>\n",
              "      <td>0</td>\n",
              "      <td>0</td>\n",
              "      <td>0</td>\n",
              "      <td>0</td>\n",
              "      <td>0</td>\n",
              "      <td>0</td>\n",
              "      <td>0</td>\n",
              "      <td>0</td>\n",
              "      <td>0</td>\n",
              "      <td>0</td>\n",
              "      <td>0</td>\n",
              "      <td>0</td>\n",
              "      <td>0</td>\n",
              "      <td>0</td>\n",
              "      <td>0</td>\n",
              "      <td>0</td>\n",
              "      <td>0</td>\n",
              "      <td>0</td>\n",
              "      <td>0</td>\n",
              "      <td>0</td>\n",
              "      <td>0</td>\n",
              "      <td>0</td>\n",
              "      <td>0</td>\n",
              "      <td>0</td>\n",
              "      <td>0</td>\n",
              "      <td>0</td>\n",
              "      <td>0</td>\n",
              "      <td>0</td>\n",
              "      <td>0</td>\n",
              "      <td>0</td>\n",
              "      <td>...</td>\n",
              "      <td>0</td>\n",
              "      <td>0</td>\n",
              "      <td>0</td>\n",
              "      <td>0</td>\n",
              "      <td>0</td>\n",
              "      <td>0</td>\n",
              "      <td>0</td>\n",
              "      <td>0</td>\n",
              "      <td>0</td>\n",
              "      <td>0</td>\n",
              "      <td>0</td>\n",
              "      <td>0</td>\n",
              "      <td>0</td>\n",
              "      <td>0</td>\n",
              "      <td>0</td>\n",
              "      <td>0</td>\n",
              "      <td>0</td>\n",
              "      <td>0</td>\n",
              "      <td>0</td>\n",
              "      <td>0</td>\n",
              "      <td>0</td>\n",
              "      <td>0</td>\n",
              "      <td>0</td>\n",
              "      <td>0</td>\n",
              "      <td>0</td>\n",
              "      <td>0</td>\n",
              "      <td>0</td>\n",
              "      <td>0</td>\n",
              "      <td>0</td>\n",
              "      <td>0</td>\n",
              "      <td>0</td>\n",
              "      <td>0</td>\n",
              "      <td>0</td>\n",
              "      <td>0</td>\n",
              "      <td>0</td>\n",
              "      <td>0</td>\n",
              "      <td>0</td>\n",
              "      <td>0</td>\n",
              "      <td>0</td>\n",
              "      <td>0</td>\n",
              "    </tr>\n",
              "    <tr>\n",
              "      <th>2</th>\n",
              "      <td>0</td>\n",
              "      <td>0</td>\n",
              "      <td>0</td>\n",
              "      <td>0</td>\n",
              "      <td>0</td>\n",
              "      <td>0</td>\n",
              "      <td>0</td>\n",
              "      <td>5</td>\n",
              "      <td>0</td>\n",
              "      <td>0</td>\n",
              "      <td>0</td>\n",
              "      <td>105</td>\n",
              "      <td>92</td>\n",
              "      <td>101</td>\n",
              "      <td>107</td>\n",
              "      <td>100</td>\n",
              "      <td>132</td>\n",
              "      <td>0</td>\n",
              "      <td>0</td>\n",
              "      <td>2</td>\n",
              "      <td>4</td>\n",
              "      <td>0</td>\n",
              "      <td>1</td>\n",
              "      <td>0</td>\n",
              "      <td>0</td>\n",
              "      <td>0</td>\n",
              "      <td>0</td>\n",
              "      <td>0</td>\n",
              "      <td>0</td>\n",
              "      <td>0</td>\n",
              "      <td>0</td>\n",
              "      <td>0</td>\n",
              "      <td>0</td>\n",
              "      <td>0</td>\n",
              "      <td>0</td>\n",
              "      <td>0</td>\n",
              "      <td>0</td>\n",
              "      <td>0</td>\n",
              "      <td>150</td>\n",
              "      <td>227</td>\n",
              "      <td>...</td>\n",
              "      <td>211</td>\n",
              "      <td>220</td>\n",
              "      <td>214</td>\n",
              "      <td>74</td>\n",
              "      <td>0</td>\n",
              "      <td>255</td>\n",
              "      <td>222</td>\n",
              "      <td>128</td>\n",
              "      <td>0</td>\n",
              "      <td>0</td>\n",
              "      <td>0</td>\n",
              "      <td>0</td>\n",
              "      <td>0</td>\n",
              "      <td>0</td>\n",
              "      <td>0</td>\n",
              "      <td>0</td>\n",
              "      <td>0</td>\n",
              "      <td>44</td>\n",
              "      <td>12</td>\n",
              "      <td>0</td>\n",
              "      <td>0</td>\n",
              "      <td>40</td>\n",
              "      <td>134</td>\n",
              "      <td>162</td>\n",
              "      <td>191</td>\n",
              "      <td>214</td>\n",
              "      <td>163</td>\n",
              "      <td>146</td>\n",
              "      <td>165</td>\n",
              "      <td>79</td>\n",
              "      <td>0</td>\n",
              "      <td>0</td>\n",
              "      <td>0</td>\n",
              "      <td>30</td>\n",
              "      <td>43</td>\n",
              "      <td>0</td>\n",
              "      <td>0</td>\n",
              "      <td>0</td>\n",
              "      <td>0</td>\n",
              "      <td>0</td>\n",
              "    </tr>\n",
              "    <tr>\n",
              "      <th>3</th>\n",
              "      <td>0</td>\n",
              "      <td>0</td>\n",
              "      <td>0</td>\n",
              "      <td>1</td>\n",
              "      <td>2</td>\n",
              "      <td>0</td>\n",
              "      <td>0</td>\n",
              "      <td>0</td>\n",
              "      <td>0</td>\n",
              "      <td>0</td>\n",
              "      <td>114</td>\n",
              "      <td>183</td>\n",
              "      <td>112</td>\n",
              "      <td>55</td>\n",
              "      <td>23</td>\n",
              "      <td>72</td>\n",
              "      <td>102</td>\n",
              "      <td>165</td>\n",
              "      <td>160</td>\n",
              "      <td>28</td>\n",
              "      <td>0</td>\n",
              "      <td>0</td>\n",
              "      <td>0</td>\n",
              "      <td>1</td>\n",
              "      <td>0</td>\n",
              "      <td>0</td>\n",
              "      <td>0</td>\n",
              "      <td>0</td>\n",
              "      <td>0</td>\n",
              "      <td>0</td>\n",
              "      <td>0</td>\n",
              "      <td>0</td>\n",
              "      <td>1</td>\n",
              "      <td>0</td>\n",
              "      <td>0</td>\n",
              "      <td>24</td>\n",
              "      <td>188</td>\n",
              "      <td>163</td>\n",
              "      <td>93</td>\n",
              "      <td>136</td>\n",
              "      <td>...</td>\n",
              "      <td>171</td>\n",
              "      <td>249</td>\n",
              "      <td>207</td>\n",
              "      <td>197</td>\n",
              "      <td>202</td>\n",
              "      <td>45</td>\n",
              "      <td>0</td>\n",
              "      <td>3</td>\n",
              "      <td>0</td>\n",
              "      <td>0</td>\n",
              "      <td>0</td>\n",
              "      <td>0</td>\n",
              "      <td>0</td>\n",
              "      <td>0</td>\n",
              "      <td>0</td>\n",
              "      <td>0</td>\n",
              "      <td>0</td>\n",
              "      <td>0</td>\n",
              "      <td>1</td>\n",
              "      <td>0</td>\n",
              "      <td>0</td>\n",
              "      <td>0</td>\n",
              "      <td>22</td>\n",
              "      <td>21</td>\n",
              "      <td>25</td>\n",
              "      <td>69</td>\n",
              "      <td>52</td>\n",
              "      <td>45</td>\n",
              "      <td>74</td>\n",
              "      <td>39</td>\n",
              "      <td>3</td>\n",
              "      <td>0</td>\n",
              "      <td>0</td>\n",
              "      <td>0</td>\n",
              "      <td>0</td>\n",
              "      <td>1</td>\n",
              "      <td>0</td>\n",
              "      <td>0</td>\n",
              "      <td>0</td>\n",
              "      <td>0</td>\n",
              "    </tr>\n",
              "    <tr>\n",
              "      <th>4</th>\n",
              "      <td>0</td>\n",
              "      <td>0</td>\n",
              "      <td>0</td>\n",
              "      <td>0</td>\n",
              "      <td>0</td>\n",
              "      <td>0</td>\n",
              "      <td>0</td>\n",
              "      <td>0</td>\n",
              "      <td>0</td>\n",
              "      <td>0</td>\n",
              "      <td>0</td>\n",
              "      <td>0</td>\n",
              "      <td>46</td>\n",
              "      <td>0</td>\n",
              "      <td>21</td>\n",
              "      <td>68</td>\n",
              "      <td>0</td>\n",
              "      <td>0</td>\n",
              "      <td>0</td>\n",
              "      <td>0</td>\n",
              "      <td>0</td>\n",
              "      <td>0</td>\n",
              "      <td>0</td>\n",
              "      <td>0</td>\n",
              "      <td>0</td>\n",
              "      <td>0</td>\n",
              "      <td>0</td>\n",
              "      <td>0</td>\n",
              "      <td>0</td>\n",
              "      <td>0</td>\n",
              "      <td>0</td>\n",
              "      <td>0</td>\n",
              "      <td>0</td>\n",
              "      <td>0</td>\n",
              "      <td>0</td>\n",
              "      <td>0</td>\n",
              "      <td>25</td>\n",
              "      <td>187</td>\n",
              "      <td>189</td>\n",
              "      <td>0</td>\n",
              "      <td>...</td>\n",
              "      <td>230</td>\n",
              "      <td>237</td>\n",
              "      <td>229</td>\n",
              "      <td>0</td>\n",
              "      <td>0</td>\n",
              "      <td>1</td>\n",
              "      <td>0</td>\n",
              "      <td>0</td>\n",
              "      <td>0</td>\n",
              "      <td>0</td>\n",
              "      <td>0</td>\n",
              "      <td>0</td>\n",
              "      <td>0</td>\n",
              "      <td>0</td>\n",
              "      <td>0</td>\n",
              "      <td>0</td>\n",
              "      <td>0</td>\n",
              "      <td>0</td>\n",
              "      <td>0</td>\n",
              "      <td>0</td>\n",
              "      <td>0</td>\n",
              "      <td>68</td>\n",
              "      <td>116</td>\n",
              "      <td>112</td>\n",
              "      <td>136</td>\n",
              "      <td>147</td>\n",
              "      <td>144</td>\n",
              "      <td>121</td>\n",
              "      <td>102</td>\n",
              "      <td>63</td>\n",
              "      <td>0</td>\n",
              "      <td>0</td>\n",
              "      <td>0</td>\n",
              "      <td>0</td>\n",
              "      <td>0</td>\n",
              "      <td>0</td>\n",
              "      <td>0</td>\n",
              "      <td>0</td>\n",
              "      <td>0</td>\n",
              "      <td>0</td>\n",
              "    </tr>\n",
              "  </tbody>\n",
              "</table>\n",
              "<p>5 rows × 784 columns</p>\n",
              "</div>"
            ],
            "text/plain": [
              "   pixel1  pixel2  pixel3  pixel4  ...  pixel781  pixel782  pixel783  pixel784\n",
              "0       0       0       0       0  ...         0         0         0         0\n",
              "1       0       0       0       0  ...         0         0         0         0\n",
              "2       0       0       0       0  ...         0         0         0         0\n",
              "3       0       0       0       1  ...         0         0         0         0\n",
              "4       0       0       0       0  ...         0         0         0         0\n",
              "\n",
              "[5 rows x 784 columns]"
            ]
          },
          "metadata": {
            "tags": []
          },
          "execution_count": 22
        }
      ]
    },
    {
      "cell_type": "code",
      "metadata": {
        "id": "is_DbFWFImsa",
        "colab_type": "code",
        "colab": {
          "base_uri": "https://localhost:8080/",
          "height": 34
        },
        "outputId": "271f9bfd-9dd0-40a8-b436-e017df20b80e"
      },
      "source": [
        "train.shape"
      ],
      "execution_count": 23,
      "outputs": [
        {
          "output_type": "execute_result",
          "data": {
            "text/plain": [
              "(60000, 784)"
            ]
          },
          "metadata": {
            "tags": []
          },
          "execution_count": 23
        }
      ]
    },
    {
      "cell_type": "code",
      "metadata": {
        "id": "qWbviKaVImsb",
        "colab_type": "code",
        "colab": {}
      },
      "source": [
        "train_ar = np.array(train)\n",
        "train_ar = train_ar.reshape(-1, 28, 28,1)"
      ],
      "execution_count": 0,
      "outputs": []
    },
    {
      "cell_type": "code",
      "metadata": {
        "id": "wBh2aU5QSVfP",
        "colab_type": "code",
        "colab": {
          "base_uri": "https://localhost:8080/",
          "height": 269
        },
        "outputId": "335c701c-e40d-4a63-d9fa-e2feddc6c226"
      },
      "source": [
        "plt.imshow(train_ar[0].reshape(28,28))\n",
        "plt.show()"
      ],
      "execution_count": 25,
      "outputs": [
        {
          "output_type": "display_data",
          "data": {
            "image/png": "[encoded data removed]",
            "text/plain": [
              "<Figure size 432x288 with 1 Axes>"
            ]
          },
          "metadata": {
            "tags": []
          }
        }
      ]
    },
    {
      "cell_type": "code",
      "metadata": {
        "id": "ee_m6egWImsd",
        "colab_type": "code",
        "colab": {
          "base_uri": "https://localhost:8080/",
          "height": 34
        },
        "outputId": "3d6e102c-60e2-47ff-91fb-b46a892c0cc7"
      },
      "source": [
        "train_ar[0].shape"
      ],
      "execution_count": 26,
      "outputs": [
        {
          "output_type": "execute_result",
          "data": {
            "text/plain": [
              "(28, 28, 1)"
            ]
          },
          "metadata": {
            "tags": []
          },
          "execution_count": 26
        }
      ]
    },
    {
      "cell_type": "code",
      "metadata": {
        "id": "0mzyUN5fImse",
        "colab_type": "code",
        "colab": {
          "base_uri": "https://localhost:8080/",
          "height": 34
        },
        "outputId": "6be22569-f879-494b-b154-a21cac1cfd89"
      },
      "source": [
        ""
      ],
      "execution_count": 27,
      "outputs": [
        {
          "output_type": "execute_result",
          "data": {
            "text/plain": [
              "'1.13.1'"
            ]
          },
          "metadata": {
            "tags": []
          },
          "execution_count": 27
        }
      ]
    },
    {
      "cell_type": "code",
      "metadata": {
        "id": "fbVdf52qImsg",
        "colab_type": "code",
        "colab": {}
      },
      "source": [
        "with graph.as_default():\n",
        "    '''\n",
        "    Defining loss function and optimizer\n",
        "    '''\n",
        "    loss = tf.nn.sigmoid_cross_entropy_with_logits(labels=Y, logits=logits)\n",
        "    lr = tf.placeholder(tf.float32, shape=[])\n",
        "    cost = tf.reduce_mean(loss, name ='cost')\n",
        "    opt = tf.train.AdamOptimizer(learning_rate=lr, name='opt').minimize(cost) #optimizer\n",
        "    \n",
        "    summaryMerged = tf.summary.merge_all() #For tensorboard\n",
        "    filename=\"./summary_log/run-\"+time.strftime(\"%d%m-%H%M%S\")"
      ],
      "execution_count": 0,
      "outputs": []
    },
    {
      "cell_type": "code",
      "metadata": {
        "id": "UpqwrvegImsh",
        "colab_type": "code",
        "colab": {
          "base_uri": "https://localhost:8080/",
          "height": 357
        },
        "outputId": "df4f4f03-6b5d-4b1c-a676-4cf2ad59a9cc"
      },
      "source": [
        "'''\n",
        "Ran 6 times 10 epochs with learning rate decay and different mini batch sizes.\n",
        "Every 10 epochs,\n",
        "training had stopped and checked the model performance by ploting 'predicted duplicates' \n",
        "of random products and validated\n",
        "'''\n",
        "\n",
        "minibatch_size = 256\n",
        "epoch = 10\n",
        "learning_rate = 0.00002\n",
        "\n",
        "with tf.Session(graph=graph) as sess:\n",
        "    writer = tf.summary.FileWriter(filename, sess.graph) \n",
        "    sess.run(tf.global_variables_initializer())\n",
        "    saver = tf.train.Saver()\n",
        "#     saver.restore(sess, tf.train.latest_checkpoint('./saved_model/'))\n",
        "    for ep in range(epoch):\n",
        "      avg_cost = 0\n",
        "      batch_costs=[]\n",
        "      for i, minibatch in enumerate(iterate_minibatches(train_ar, minibatch_size)):\n",
        "        batch_cost, _ = sess.run([cost, opt], feed_dict={X: minibatch/255,\n",
        "                                                             Y: minibatch/255,\n",
        "                                                            lr: learning_rate})\n",
        "        batch_costs.append(batch_cost)\n",
        "      print(i)\n",
        "      print(\"Epoch: {}/{}...\".format(ep+1, epoch), \\\n",
        "                  \"Training loss: {:.4f}\".format(batch_cost/i))\n",
        "    saver.save(sess, \"./saved_model/model\")"
      ],
      "execution_count": 29,
      "outputs": [
        {
          "output_type": "stream",
          "text": [
            "234\n",
            "Epoch: 1/10... Training loss: 0.0029\n",
            "234\n",
            "Epoch: 2/10... Training loss: 0.0028\n",
            "234\n",
            "Epoch: 3/10... Training loss: 0.0023\n",
            "234\n",
            "Epoch: 4/10... Training loss: 0.0022\n",
            "234\n",
            "Epoch: 5/10... Training loss: 0.0021\n",
            "234\n",
            "Epoch: 6/10... Training loss: 0.0018\n",
            "234\n",
            "Epoch: 7/10... Training loss: 0.0018\n",
            "234\n",
            "Epoch: 8/10... Training loss: 0.0017\n",
            "234\n",
            "Epoch: 9/10... Training loss: 0.0018\n",
            "234\n",
            "Epoch: 10/10... Training loss: 0.0016\n"
          ],
          "name": "stdout"
        }
      ]
    },
    {
      "cell_type": "code",
      "metadata": {
        "id": "_WwsVKLqImsi",
        "colab_type": "code",
        "colab": {}
      },
      "source": [
        ""
      ],
      "execution_count": 0,
      "outputs": []
    },
    {
      "cell_type": "code",
      "metadata": {
        "id": "-FNBI75EImsj",
        "colab_type": "code",
        "colab": {
          "base_uri": "https://localhost:8080/",
          "height": 136
        },
        "outputId": "b7ec15cb-3cdb-431e-9c61-af20bd90e8b3"
      },
      "source": [
        "train1 = pd.read_csv('./fashion-mnist_train.csv')\n",
        "train1 = np.array(train1)\n",
        "train1[:,:1]"
      ],
      "execution_count": 30,
      "outputs": [
        {
          "output_type": "execute_result",
          "data": {
            "text/plain": [
              "array([[2],\n",
              "       [9],\n",
              "       [6],\n",
              "       ...,\n",
              "       [8],\n",
              "       [8],\n",
              "       [7]])"
            ]
          },
          "metadata": {
            "tags": []
          },
          "execution_count": 30
        }
      ]
    },
    {
      "cell_type": "code",
      "metadata": {
        "id": "mQwYZcddImsk",
        "colab_type": "code",
        "colab": {}
      },
      "source": [
        ""
      ],
      "execution_count": 0,
      "outputs": []
    },
    {
      "cell_type": "code",
      "metadata": {
        "id": "KLW4PrUPraHZ",
        "colab_type": "code",
        "colab": {}
      },
      "source": [
        ""
      ],
      "execution_count": 0,
      "outputs": []
    },
    {
      "cell_type": "code",
      "metadata": {
        "id": "ij4Aq0InImsl",
        "colab_type": "code",
        "colab": {
          "base_uri": "https://localhost:8080/",
          "height": 262
        },
        "outputId": "c5b7b694-a89f-47f4-8336-d5479841d94e"
      },
      "source": [
        "'''\n",
        "Read all images; \n",
        "Calculate embeddings for each images\n",
        "Append the embeddings and product index to two seperate arrays\n",
        "'''\n",
        "limit = 99999\n",
        "IMG_SIZE = 64\n",
        "embeddings = []\n",
        "labels = []\n",
        "with tf.Session(graph=graph) as sess:\n",
        "    saver = tf.train.Saver()\n",
        "    saver.restore(sess, tf.train.latest_checkpoint('./saved_model/'))\n",
        "    for i, im in (enumerate(range(len(train_ar)))):\n",
        "      img = train_ar[im].reshape(1,28,28,1)\n",
        " \n",
        "          \n",
        "      img = img/255.0\n",
        "    \n",
        "      embeddings.append(sess.run(encoded,feed_dict={X:img}).reshape(-1,16))\n",
        "      if i%10000 ==0:\n",
        "        print(i)\n",
        "#       labels.append(int(path.split('.')[-2].split('-')[-1]))  \n",
        "#             print(int(path.split('.')[-2].split('-')[-1]))\n",
        "# labels = np.array(labels)\n",
        "embeddings = np.array(np.squeeze(embeddings))"
      ],
      "execution_count": 31,
      "outputs": [
        {
          "output_type": "stream",
          "text": [
            "WARNING:tensorflow:From /usr/local/lib/python3.6/dist-packages/tensorflow/python/training/saver.py:1266: checkpoint_exists (from tensorflow.python.training.checkpoint_management) is deprecated and will be removed in a future version.\n",
            "Instructions for updating:\n",
            "Use standard file APIs to check for files with this prefix.\n",
            "INFO:tensorflow:Restoring parameters from ./saved_model/model\n",
            "0\n",
            "10000\n",
            "20000\n",
            "30000\n",
            "40000\n",
            "50000\n"
          ],
          "name": "stdout"
        }
      ]
    },
    {
      "cell_type": "code",
      "metadata": {
        "id": "lliykKCXImsm",
        "colab_type": "code",
        "colab": {}
      },
      "source": [
        "# for op in graph2.get_operations():\n",
        "#      print(op.name)"
      ],
      "execution_count": 0,
      "outputs": []
    },
    {
      "cell_type": "code",
      "metadata": {
        "id": "7lbBPbcoImsn",
        "colab_type": "code",
        "colab": {
          "base_uri": "https://localhost:8080/",
          "height": 68
        },
        "outputId": "9e37bddd-431b-4e07-f7fc-8aa9d07aa09d"
      },
      "source": [
        "'''\n",
        "Writing the weights to pb file for prediction/serving\n",
        "'''\n",
        "graph2 = tf.Graph()\n",
        "with tf.Session(graph=graph2) as sess:\n",
        "    saver = tf.train.import_meta_graph('./saved_model/model.meta')\n",
        "    input_graph_def = tf.get_default_graph().as_graph_def()\n",
        "    saver.restore(sess, \"./saved_model/model\")\n",
        "    \n",
        "    output_node_names=\"encoding/encoding/AvgPool\"\n",
        "    output_graph_def = tf.graph_util.convert_variables_to_constants(sess,\n",
        "                                                      input_graph_def,\n",
        "                                                      output_node_names.split(\",\"))\n",
        "    output_graph=\"./pb/TunicsEncoder-v0.1.pb\"\n",
        "    with tf.gfile.GFile(output_graph, \"wb\") as f:\n",
        "        f.write(output_graph_def.SerializeToString())"
      ],
      "execution_count": 35,
      "outputs": [
        {
          "output_type": "stream",
          "text": [
            "INFO:tensorflow:Restoring parameters from ./saved_model/model\n",
            "INFO:tensorflow:Froze 8 variables.\n",
            "INFO:tensorflow:Converted 8 variables to const ops.\n"
          ],
          "name": "stdout"
        }
      ]
    },
    {
      "cell_type": "code",
      "metadata": {
        "id": "VcdtzIs-VJsC",
        "colab_type": "code",
        "colab": {}
      },
      "source": [
        "!mkdir pb"
      ],
      "execution_count": 0,
      "outputs": []
    },
    {
      "cell_type": "code",
      "metadata": {
        "id": "ncTQJLOCVZgO",
        "colab_type": "code",
        "colab": {}
      },
      "source": [
        "!mkdir Embeddings"
      ],
      "execution_count": 0,
      "outputs": []
    },
    {
      "cell_type": "code",
      "metadata": {
        "id": "_jP5XHcNVn1h",
        "colab_type": "code",
        "colab": {
          "base_uri": "https://localhost:8080/",
          "height": 34
        },
        "outputId": "a93a050a-5777-46b3-c2f1-9304565f0a14"
      },
      "source": [
        "960000/256\n"
      ],
      "execution_count": 94,
      "outputs": [
        {
          "output_type": "execute_result",
          "data": {
            "text/plain": [
              "3750.0"
            ]
          },
          "metadata": {
            "tags": []
          },
          "execution_count": 94
        }
      ]
    },
    {
      "cell_type": "code",
      "metadata": {
        "id": "s6zWIEE9Imso",
        "colab_type": "code",
        "colab": {}
      },
      "source": [
        "'''\n",
        "Dumping and saving  to .npy format.\n",
        "Used for development purpose; had to restart notebokk several time, this method of reading is always faster.\n",
        "'''\n",
        "np.save('./Embeddings/embeddings.npy', embeddings)\n",
        "np.save('./Embeddings/labels.npy', labels)\n",
        "embeddings = np.load('./Embeddings/embeddings.npy').reshape(60000,16)  #since 37547 items\n",
        "# labels = np.load('./Embeddings/labels.npy').reshape(3750,)"
      ],
      "execution_count": 0,
      "outputs": []
    },
    {
      "cell_type": "code",
      "metadata": {
        "id": "KxsL7ANJImsp",
        "colab_type": "code",
        "colab": {}
      },
      "source": [
        "'''\n",
        "Creating Dataframe with each embeddings elements as columns(total 256 columns) and coresponding labels as the index\n",
        "'''\n",
        "data = pd.DataFrame(embeddings)\n",
        "# data['labels'] = labels\n",
        "# data.set_index('labels', inplace=True)\n",
        "data.sort_index(inplace=True)"
      ],
      "execution_count": 0,
      "outputs": []
    },
    {
      "cell_type": "code",
      "metadata": {
        "id": "4BfzfFQuImsp",
        "colab_type": "code",
        "colab": {
          "base_uri": "https://localhost:8080/",
          "height": 204
        },
        "outputId": "8fe7058a-7b90-4ed1-aeac-51d9f12c0488"
      },
      "source": [
        "data.head()"
      ],
      "execution_count": 38,
      "outputs": [
        {
          "output_type": "execute_result",
          "data": {
            "text/html": [
              "<div>\n",
              "<style scoped>\n",
              "    .dataframe tbody tr th:only-of-type {\n",
              "        vertical-align: middle;\n",
              "    }\n",
              "\n",
              "    .dataframe tbody tr th {\n",
              "        vertical-align: top;\n",
              "    }\n",
              "\n",
              "    .dataframe thead th {\n",
              "        text-align: right;\n",
              "    }\n",
              "</style>\n",
              "<table border=\"1\" class=\"dataframe\">\n",
              "  <thead>\n",
              "    <tr style=\"text-align: right;\">\n",
              "      <th></th>\n",
              "      <th>0</th>\n",
              "      <th>1</th>\n",
              "      <th>2</th>\n",
              "      <th>3</th>\n",
              "      <th>4</th>\n",
              "      <th>5</th>\n",
              "      <th>6</th>\n",
              "      <th>7</th>\n",
              "      <th>8</th>\n",
              "      <th>9</th>\n",
              "      <th>10</th>\n",
              "      <th>11</th>\n",
              "      <th>12</th>\n",
              "      <th>13</th>\n",
              "      <th>14</th>\n",
              "      <th>15</th>\n",
              "    </tr>\n",
              "  </thead>\n",
              "  <tbody>\n",
              "    <tr>\n",
              "      <th>0</th>\n",
              "      <td>2.119246</td>\n",
              "      <td>-0.071595</td>\n",
              "      <td>0.660118</td>\n",
              "      <td>0.519821</td>\n",
              "      <td>0.752481</td>\n",
              "      <td>0.765815</td>\n",
              "      <td>0.519559</td>\n",
              "      <td>0.470194</td>\n",
              "      <td>0.562148</td>\n",
              "      <td>0.248124</td>\n",
              "      <td>-0.144950</td>\n",
              "      <td>-0.190872</td>\n",
              "      <td>0.986947</td>\n",
              "      <td>1.257873</td>\n",
              "      <td>0.617242</td>\n",
              "      <td>0.700648</td>\n",
              "    </tr>\n",
              "    <tr>\n",
              "      <th>1</th>\n",
              "      <td>1.469556</td>\n",
              "      <td>-0.010141</td>\n",
              "      <td>0.609039</td>\n",
              "      <td>0.460495</td>\n",
              "      <td>0.783826</td>\n",
              "      <td>0.221244</td>\n",
              "      <td>0.533068</td>\n",
              "      <td>0.498524</td>\n",
              "      <td>0.203115</td>\n",
              "      <td>0.174951</td>\n",
              "      <td>-0.061597</td>\n",
              "      <td>-0.162420</td>\n",
              "      <td>0.785876</td>\n",
              "      <td>0.578780</td>\n",
              "      <td>0.098245</td>\n",
              "      <td>0.280976</td>\n",
              "    </tr>\n",
              "    <tr>\n",
              "      <th>2</th>\n",
              "      <td>2.002933</td>\n",
              "      <td>-0.071932</td>\n",
              "      <td>0.588571</td>\n",
              "      <td>0.420685</td>\n",
              "      <td>0.680648</td>\n",
              "      <td>0.922995</td>\n",
              "      <td>0.551497</td>\n",
              "      <td>0.558801</td>\n",
              "      <td>0.655638</td>\n",
              "      <td>0.266697</td>\n",
              "      <td>-0.152823</td>\n",
              "      <td>-0.164741</td>\n",
              "      <td>0.862258</td>\n",
              "      <td>1.371027</td>\n",
              "      <td>0.756773</td>\n",
              "      <td>0.671788</td>\n",
              "    </tr>\n",
              "    <tr>\n",
              "      <th>3</th>\n",
              "      <td>1.889956</td>\n",
              "      <td>-0.072736</td>\n",
              "      <td>0.613600</td>\n",
              "      <td>0.311936</td>\n",
              "      <td>0.611593</td>\n",
              "      <td>0.968886</td>\n",
              "      <td>0.604097</td>\n",
              "      <td>0.582623</td>\n",
              "      <td>0.630699</td>\n",
              "      <td>0.242908</td>\n",
              "      <td>-0.150489</td>\n",
              "      <td>-0.171304</td>\n",
              "      <td>0.655020</td>\n",
              "      <td>1.307978</td>\n",
              "      <td>0.751838</td>\n",
              "      <td>0.610078</td>\n",
              "    </tr>\n",
              "    <tr>\n",
              "      <th>4</th>\n",
              "      <td>1.917446</td>\n",
              "      <td>-0.069560</td>\n",
              "      <td>0.656737</td>\n",
              "      <td>0.237348</td>\n",
              "      <td>0.690359</td>\n",
              "      <td>0.892525</td>\n",
              "      <td>0.592196</td>\n",
              "      <td>0.667534</td>\n",
              "      <td>0.570682</td>\n",
              "      <td>0.408335</td>\n",
              "      <td>-0.143045</td>\n",
              "      <td>-0.177024</td>\n",
              "      <td>0.744805</td>\n",
              "      <td>1.344586</td>\n",
              "      <td>0.730545</td>\n",
              "      <td>0.500174</td>\n",
              "    </tr>\n",
              "  </tbody>\n",
              "</table>\n",
              "</div>"
            ],
            "text/plain": [
              "         0         1         2   ...        13        14        15\n",
              "0  2.119246 -0.071595  0.660118  ...  1.257873  0.617242  0.700648\n",
              "1  1.469556 -0.010141  0.609039  ...  0.578780  0.098245  0.280976\n",
              "2  2.002933 -0.071932  0.588571  ...  1.371027  0.756773  0.671788\n",
              "3  1.889956 -0.072736  0.613600  ...  1.307978  0.751838  0.610078\n",
              "4  1.917446 -0.069560  0.656737  ...  1.344586  0.730545  0.500174\n",
              "\n",
              "[5 rows x 16 columns]"
            ]
          },
          "metadata": {
            "tags": []
          },
          "execution_count": 38
        }
      ]
    },
    {
      "cell_type": "code",
      "metadata": {
        "id": "376i0q-KImsq",
        "colab_type": "code",
        "colab": {}
      },
      "source": [
        "def getEmbeddings(idx):\n",
        "  \n",
        "  '''\n",
        "  Calculates embedding vector given a single image\n",
        "  input: index of single image to be tested\n",
        "  return: Embeddings of shape (256,)\n",
        "  '''\n",
        "  IMG_SIZE = 64\n",
        "  \n",
        " \n",
        "  img = train_ar[idx].reshape(1,28,28,1)\n",
        "  img = img/255.0\n",
        "    \n",
        "#     img = cv2.imread('./train/im-400-{}.jpg'.format(idx))\n",
        "#     img = cv2.cvtColor(img, cv2.COLOR_BGR2RGB)\n",
        "#     img = cv2.resize(img, (IMG_SIZE,IMG_SIZE))\n",
        "#     img = img/255.0\n",
        "    \n",
        "  with tf.Session(graph=graph) as sess:\n",
        "      saver = tf.train.Saver()\n",
        "      saver.restore(sess, tf.train.latest_checkpoint('./saved_model/'))\n",
        "      dist = sess.run(encoded,feed_dict={X:img.reshape((-1,28,28,1))})\n",
        "  \n",
        "  return np.squeeze(dist.reshape(-1,16))"
      ],
      "execution_count": 0,
      "outputs": []
    },
    {
      "cell_type": "code",
      "metadata": {
        "id": "FFnXqrB7Imsr",
        "colab_type": "code",
        "colab": {}
      },
      "source": [
        "#Reading images with index of 'scores' dataframe\n",
        "def getPredictedImages(score):\n",
        "    '''\n",
        "    loading images with id equals to index of 'score'\n",
        "    '''\n",
        "    images = []\n",
        "    IMG_SIZE = 200\n",
        "    for idx in score.index:\n",
        "      \n",
        "      \n",
        "      img = train_ar[idx].reshape(1,28,28,1)\n",
        "      \n",
        "      \n",
        "#         path = './train/im-400-{}.jpg'.format(idx)\n",
        "#         img = Image.open(path)\n",
        "#         img  = make_square(img)\n",
        "#         img = cv2.cvtColor(np.array(img), cv2.COLOR_RGB2BGR)\n",
        "#         img = cv2.cvtColor(img, cv2.COLOR_BGR2RGB)\n",
        "#         img = cv2.resize(img, (IMG_SIZE,IMG_SIZE))\n",
        "      images.append([np.array(img)])\n",
        "    return np.array(images).reshape(-1,28,28,1)"
      ],
      "execution_count": 0,
      "outputs": []
    },
    {
      "cell_type": "code",
      "metadata": {
        "id": "TA5kLOi_Imss",
        "colab_type": "code",
        "colab": {}
      },
      "source": [
        "def getPredictions(testEmbeddings):\n",
        "    '''\n",
        "    input: Embeddings a single test image; shape- (256,)\n",
        "    return: Dataframe contains details of top 10 similar images\n",
        "    and \n",
        "    '''\n",
        "    dist = (np.array(data) - testEmbeddings)**2\n",
        "    dist = np.sum(dist, axis=1)\n",
        "    dist = np.sqrt(dist)    \n",
        "    '''\n",
        "    dist : Euclidean distance between testEmbedding and embeddings of all the images. dtype: numpy array\n",
        "    '''\n",
        "    \n",
        "    df = pd.DataFrame({'distance':dist})\n",
        "    df.index = data.index\n",
        "    df.sort_values('distance', ascending=True, inplace=True) \n",
        "    score = df[:10] #Taking highest 10 \n",
        "    score['score'] = df.distance[:10].apply(lambda x: np.round(1-np.tanh(x)**10, 3)).values\n",
        "    '''\n",
        "    tanh is used to map distance to 0 to 1\n",
        "    '''\n",
        "    return score"
      ],
      "execution_count": 0,
      "outputs": []
    },
    {
      "cell_type": "code",
      "metadata": {
        "id": "wYr_PNKfwJMD",
        "colab_type": "code",
        "colab": {}
      },
      "source": [
        ""
      ],
      "execution_count": 0,
      "outputs": []
    },
    {
      "cell_type": "code",
      "metadata": {
        "id": "mv6aYdmaImst",
        "colab_type": "code",
        "colab": {}
      },
      "source": [
        "def getTestimage(idx):\n",
        "    '''\n",
        "    This is for ploting the original image\n",
        "    reads image from directory given index\n",
        "    '''\n",
        "    img = train_ar[idx].reshape(28,28)\n",
        "    return img"
      ],
      "execution_count": 0,
      "outputs": []
    },
    {
      "cell_type": "code",
      "metadata": {
        "id": "0Hl7odeAImst",
        "colab_type": "code",
        "colab": {}
      },
      "source": [
        "def plotImages(idx, im, images, score):\n",
        "    images = images.reshape(-1,28,28)\n",
        "    fig, axes = plt.subplots(5,2, figsize = (15,25))\n",
        "    fig.subplots_adjust(hspace = 0.3, wspace = 0.3)\n",
        "    \n",
        "    for i, ax in enumerate(axes.flat):\n",
        "        if i==0:\n",
        "            idX = getinfo(idx)\n",
        "            ax.imshow(im, cmap = 'binary')\n",
        "            xlabel = \"Original image \".format(idX)\n",
        "            ax.set_xlabel(xlabel, fontsize = 13)\n",
        "        else:    \n",
        "            ax.imshow(images[i-1], cmap = 'binary')\n",
        "            print(i)\n",
        "            idX = getinfo(score.index[i])\n",
        "            xlabel = \"score: {} \\nid:{}\".format(score.score.iloc[i-1], idX)\n",
        "        \n",
        "            ax.set_xlabel(xlabel, fontsize = 12)\n",
        "        \n",
        "        #Remove axis ticks\n",
        "        ax.set_xticks([])\n",
        "        ax.set_yticks([])\n",
        "        \n",
        "    plt.show()"
      ],
      "execution_count": 0,
      "outputs": []
    },
    {
      "cell_type": "code",
      "metadata": {
        "id": "NJchHKSSImsu",
        "colab_type": "code",
        "colab": {}
      },
      "source": [
        "\n",
        "Data = pd.read_csv('./fashion-mnist_train.csv')\n",
        "Data = Data.label\n",
        "\n",
        "\n",
        "def getinfo(idx):\n",
        "    idX = Data[Data.index==idx].values[0]\n",
        "    return idX"
      ],
      "execution_count": 0,
      "outputs": []
    },
    {
      "cell_type": "code",
      "metadata": {
        "id": "5WZ5544ofeEB",
        "colab_type": "code",
        "colab": {
          "base_uri": "https://localhost:8080/",
          "height": 34
        },
        "outputId": "c0f204e1-73f9-4069-b366-bcf4859dcdfd"
      },
      "source": [
        "getinfo(4534)"
      ],
      "execution_count": 63,
      "outputs": [
        {
          "output_type": "execute_result",
          "data": {
            "text/plain": [
              "4"
            ]
          },
          "metadata": {
            "tags": []
          },
          "execution_count": 63
        }
      ]
    },
    {
      "cell_type": "code",
      "metadata": {
        "id": "P11BfKNm6AtE",
        "colab_type": "code",
        "colab": {
          "base_uri": "https://localhost:8080/",
          "height": 34
        },
        "outputId": "5bce80ba-86c6-4b7f-c29e-191287bb5dba"
      },
      "source": [
        "Data = pd.read_csv('./fashion-mnist_train.csv')\n",
        "Data = Data.label\n",
        "Data[Data.index==4534].values[0]"
      ],
      "execution_count": 45,
      "outputs": [
        {
          "output_type": "execute_result",
          "data": {
            "text/plain": [
              "4"
            ]
          },
          "metadata": {
            "tags": []
          },
          "execution_count": 45
        }
      ]
    },
    {
      "cell_type": "code",
      "metadata": {
        "id": "Yy7ltBxNImsv",
        "colab_type": "code",
        "colab": {
          "base_uri": "https://localhost:8080/",
          "height": 1646
        },
        "outputId": "48b3d4d9-e687-4d66-df6c-0f394dfafbea"
      },
      "source": [
        "'''\n",
        "Testing one image\n",
        "'''\n",
        "idx = 4534\n",
        "testEmbeddings = getEmbeddings(idx)\n",
        "score = getPredictions(testEmbeddings)\n",
        "images =  getPredictedImages(score)\n",
        "im = getTestimage(idx)\n",
        "plotImages(idx, im, images, score)"
      ],
      "execution_count": 65,
      "outputs": [
        {
          "output_type": "stream",
          "text": [
            "INFO:tensorflow:Restoring parameters from ./saved_model/model\n",
            "4534\n",
            "(28, 28)\n",
            "(10, 28, 28, 1)\n",
            "1\n",
            "2\n",
            "3\n",
            "4\n",
            "5\n",
            "6\n",
            "7\n",
            "8\n",
            "9\n"
          ],
          "name": "stdout"
        },
        {
          "output_type": "display_data",
          "data": {
            "image/png": "[encoded data removed]",
            "text/plain": [
              "<Figure size 1080x1800 with 10 Axes>"
            ]
          },
          "metadata": {
            "tags": []
          }
        }
      ]
    },
    {
      "cell_type": "code",
      "metadata": {
        "id": "7jdZKrInImsz",
        "colab_type": "code",
        "colab": {}
      },
      "source": [
        ""
      ],
      "execution_count": 0,
      "outputs": []
    },
    {
      "cell_type": "code",
      "metadata": {
        "id": "CHkWneknA0Nh",
        "colab_type": "code",
        "colab": {}
      },
      "source": [
        ""
      ],
      "execution_count": 0,
      "outputs": []
    }
  ]
}